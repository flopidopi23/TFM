{
 "cells": [
  {
   "cell_type": "code",
   "execution_count": null,
   "metadata": {},
   "outputs": [],
   "source": [
    "import pandas as pd\n",
    "import numpy as np\n",
    "import pandas as pd\n",
    "from datetime import datetime\n",
    "import matplotlib.pylab as plt\n",
    "from matplotlib.pylab import rcParams\n",
    "from statsmodels.tsa.stattools import adfuller\n",
    "#!pip install pmdarima --quiet\n",
    "import pmdarima as pm\n",
    "from statsmodels.graphics.tsaplots import plot_acf, plot_pacf\n",
    "from pmdarima import auto_arima\n"
   ]
  },
  {
   "cell_type": "code",
   "execution_count": null,
   "metadata": {},
   "outputs": [],
   "source": [
    "ari = pd.read_csv(\"data_ari.csv\",sep=\",\",dtype={'location':str,'year_week':str,\n",
    "                                                'value':np.float32,'relative_humidity_2m':np.float64,\n",
    "                                                'temperature_2m_max':np.float64,'temperature_2m_min':np.float64},\n",
    "                                                parse_dates=['truth_date'])\n",
    "ari = ari.drop(columns=['Unnamed: 0']).reset_index(drop=True)\n"
   ]
  },
  {
   "cell_type": "code",
   "execution_count": null,
   "metadata": {},
   "outputs": [],
   "source": [
    "#BE#\n",
    "ari_BE = ari[ari['location']==\"BE\"]\n",
    "train = ari_BE[ari_BE['truth_date']<=\"2023-09-01\"]\n",
    "test = ari_BE[ari_BE['truth_date']>\"2023-09-01\"]"
   ]
  },
  {
   "cell_type": "code",
   "execution_count": null,
   "metadata": {},
   "outputs": [],
   "source": [
    "test.head()"
   ]
  },
  {
   "cell_type": "code",
   "execution_count": null,
   "metadata": {},
   "outputs": [],
   "source": [
    "import matplotlib.dates as mdates\n",
    "plt.figure(figsize=(15, 7))\n",
    "plt.title(\"Number of ARI in BE incidences by Date\")\n",
    "plt.xlabel('Date')\n",
    "plt.ylabel('Incidences')\n",
    "plt.plot(ari_BE['truth_date'], ari_BE['value'], label='Indicences', color='blue')\n",
    "plt.gca().xaxis.set_major_locator(mdates.YearLocator(1))  # Tick every year\n",
    "plt.gca().xaxis.set_major_formatter(mdates.DateFormatter('%Y'))\n",
    "plt.legend()  \n",
    "plt.show()"
   ]
  },
  {
   "cell_type": "code",
   "execution_count": null,
   "metadata": {},
   "outputs": [],
   "source": [
    "from statsmodels.graphics.tsaplots import plot_acf\n",
    "\n",
    "plot_acf(ari_BE['value'], lags=104)  # Check 2 years (104 weeks)\n",
    "plt.show()"
   ]
  },
  {
   "cell_type": "code",
   "execution_count": null,
   "metadata": {},
   "outputs": [],
   "source": [
    "# Calculate rolling statistics\n",
    "ari_BE[\"rolling_avg\"] = ari_BE[\"value\"].rolling(window=12).mean()  # 12 represents 12 periods (e.g., months)\n",
    "ari_BE[\"rolling_std\"] = ari_BE[\"value\"].rolling(window=12).std()\n",
    "\n",
    "# Plot rolling statistics\n",
    "plt.figure(figsize=(15, 7))\n",
    "plt.plot(ari_BE[\"truth_date\"], ari_BE[\"value\"], color='#379BDB', label='Original Data')  # Original data\n",
    "plt.plot(ari_BE[\"truth_date\"], ari_BE[\"rolling_avg\"], color='#D22A0D', label='Rolling Mean')  # Rolling mean\n",
    "plt.plot(ari_BE[\"truth_date\"], ari_BE[\"rolling_std\"], color='#142039', label='Rolling Std Dev')  # Rolling std dev\n",
    "plt.legend(loc='best')\n",
    "plt.title('Rolling Mean & Standard Deviation')\n",
    "plt.xlabel('Date')\n",
    "plt.ylabel('Value')\n",
    "plt.show()\n"
   ]
  },
  {
   "cell_type": "code",
   "execution_count": null,
   "metadata": {},
   "outputs": [],
   "source": [
    "#Augmented Dickey–Fuller test:\n",
    "print('Results of Dickey Fuller Test:')\n",
    "dftest = adfuller(ari_BE['value'], autolag='AIC')\n",
    "\n",
    "dfoutput = pd.Series(dftest[0:4], index=['Test Statistic','p-value','#Lags Used','Number of Observations Used'])\n",
    "for key,value in dftest[4].items():\n",
    "    dfoutput['Critical Value (%s)'%key] = value\n",
    "    \n",
    "print(dfoutput)"
   ]
  },
  {
   "cell_type": "markdown",
   "metadata": {},
   "source": [
    "The data is stationary, so we can apply. This means that we can apply models without diff"
   ]
  },
  {
   "cell_type": "code",
   "execution_count": null,
   "metadata": {},
   "outputs": [],
   "source": [
    "ARIMA_model = pm.auto_arima(train['value'], \n",
    "                      start_p=0, \n",
    "                      start_q=0,\n",
    "                      test='adf', # use adftest to find optimal 'd'\n",
    "                      max_p=4, max_q=4, # maximum p and q\n",
    "                      m=1, # frequency of series (if m==1, seasonal is set to FALSE automatically)\n",
    "                      d=None,# let model determine 'd'\n",
    "                      seasonal=True, # No Seasonality for standard ARIMA\n",
    "                      trace=False, #logs \n",
    "                      error_action='warn', #shows errors ('ignore' silences these)\n",
    "                      suppress_warnings=True,\n",
    "                      stepwise=True)"
   ]
  },
  {
   "cell_type": "code",
   "execution_count": null,
   "metadata": {},
   "outputs": [],
   "source": [
    "ARIMA_model.plot_diagnostics(figsize=(15,12))\n",
    "plt.show()"
   ]
  },
  {
   "cell_type": "code",
   "execution_count": null,
   "metadata": {},
   "outputs": [],
   "source": [
    "# Seasonal - fit stepwise auto-ARIMA\n",
    "SARIMA_model = pm.auto_arima(train[\"value\"], start_p=1, start_q=1,\n",
    "                        test='adf',\n",
    "                        max_p=2, max_q=2, \n",
    "                        m=52, #52 is the frequncy of the cycle because is weekly\n",
    "                        start_P=1, \n",
    "                        seasonal=True, #set to seasonal\n",
    "                        d=None, \n",
    "                        D=1, #order of the seasonal differencing\n",
    "                        trace=False,\n",
    "                        error_action='ignore',  \n",
    "                        suppress_warnings=True, \n",
    "                        stepwise=True)"
   ]
  },
  {
   "cell_type": "code",
   "execution_count": null,
   "metadata": {},
   "outputs": [],
   "source": [
    "SARIMA_model.plot_diagnostics(figsize=(15,12))\n",
    "plt.show()"
   ]
  },
  {
   "cell_type": "code",
   "execution_count": null,
   "metadata": {},
   "outputs": [],
   "source": [
    "SARIMA_model.summary()"
   ]
  },
  {
   "cell_type": "code",
   "execution_count": null,
   "metadata": {},
   "outputs": [],
   "source": [
    "def mean_absolute_percentage_error(y_true, y_pred):\n",
    "    y_true, y_pred = np.array(y_true), np.array(y_pred)\n",
    "    return np.mean(np.abs((y_true - y_pred) / y_true)) * 100"
   ]
  },
  {
   "cell_type": "code",
   "execution_count": null,
   "metadata": {},
   "outputs": [],
   "source": [
    "import pandas as pd\n",
    "import matplotlib.pyplot as plt\n",
    "from statsmodels.tsa.arima.model import ARIMA\n",
    "\n",
    "# Load the dataset\n",
    "df = ari\n",
    "\n",
    "# Convert 'truth_date' to datetime and sort data\n",
    "df['truth_date'] = pd.to_datetime(df['truth_date'])\n",
    "df = df.sort_values(by='truth_date')\n",
    "\n",
    "# Select a single location (e.g., Czech Republic \"CZ\")\n",
    "df_single = df[df[\"location\"] == \"CZ\"].copy()\n",
    "\n",
    "# Set 'truth_date' as index\n",
    "df_single.set_index(\"truth_date\", inplace=True)\n",
    "\n",
    "# Train-test split (80% train, 20% test)\n",
    "split_point = int(len(df_single) * 0.8)\n",
    "train, test = df_single.iloc[:split_point], df_single.iloc[split_point:]\n",
    "\n",
    "# Rolling 4-week forecast function\n",
    "def rolling_forecast(ARIMA_order, train, test, step=4):\n",
    "    history = list(train[\"value\"])  # Start with training data\n",
    "    predictions = []  \n",
    "    test_index = test.index  # Store test index for plotting\n",
    "\n",
    "    for i in range(0, len(test), step):\n",
    "        # Fit ARIMA model on the available data\n",
    "        model = ARIMA(history, order=ARIMA_order)\n",
    "        model_fit = model.fit()\n",
    "        \n",
    "        # Forecast next 'step' periods (4 weeks)\n",
    "        forecast = model_fit.forecast(steps=step)\n",
    "        \n",
    "        # Store predictions\n",
    "        predictions.extend(forecast)\n",
    "        \n",
    "        # Move forward by 'step' weeks in real data\n",
    "        actual_values = test[\"value\"].iloc[i:i+step].tolist()\n",
    "        history.extend(actual_values)  # Update history with real values\n",
    "\n",
    "    # Convert predictions to Pandas Series\n",
    "    predicted_series = pd.Series(predictions[:len(test)], index=test_index)  \n",
    "    mape = mean_absolute_percentage_error(test[\"value\"], predicted_series)\n",
    "    print(f\"Mean Absolute Percentage Error (MAPE): {mape:.2f}%\")\n",
    "    # Plot results\n",
    "    plt.figure(figsize=(15, 7))\n",
    "    plt.plot(train.index, train[\"value\"], color='blue', label='Training Data')  \n",
    "    plt.plot(test.index, test[\"value\"], color='orange', label='Actual Test Data')  \n",
    "    plt.plot(predicted_series, color='green', linestyle='dashed', label='Rolling 4-Week Forecast')  \n",
    "    plt.legend(loc='upper left')\n",
    "    plt.title(\"Rolling ARIMA - 4-Week Forecasting\")\n",
    "    plt.xlabel(\"Date\")\n",
    "    plt.ylabel(\"Value\")\n",
    "    plt.show()\n",
    "    return mape\n",
    "# Run rolling forecast with 4-week step\n",
    "mape_arima = rolling_forecast((2, 1, 2), train, test, step=4)\n"
   ]
  },
  {
   "cell_type": "code",
   "execution_count": null,
   "metadata": {},
   "outputs": [],
   "source": [
    "import pandas as pd\n",
    "import matplotlib.pyplot as plt\n",
    "from statsmodels.tsa.statespace.sarimax import SARIMAX\n",
    "import numpy as np\n",
    "\n",
    "# Define exogenous variables\n",
    "exog_vars = ['relative_humidity_2m', 'temperature_2m_max', 'temperature_2m_min', 'covid']\n",
    "\n",
    "# Function to calculate Mean Absolute Percentage Error (MAPE)\n",
    "def mean_absolute_percentage_error(y_true, y_pred):\n",
    "    y_true, y_pred = np.array(y_true), np.array(y_pred)\n",
    "    return np.mean(np.abs((y_true - y_pred) / y_true)) * 100\n",
    "\n",
    "# Rolling 4-week forecast function with SARIMAX\n",
    "def rolling_forecast_sarimax(order, train, test, exog_vars, step=4):\n",
    "    history = list(train[\"value\"])  # Start with training data\n",
    "    exog_history = train[exog_vars].copy()  # Exogenous variables history\n",
    "    predictions = []  \n",
    "    test_index = test.index  # Store test index for plotting\n",
    "\n",
    "    for i in range(0, len(test), step):\n",
    "        # Ensure exog_train matches the length of history\n",
    "        exog_train = exog_history.iloc[:len(history)]  \n",
    "\n",
    "        # Fit SARIMAX model with exogenous variables\n",
    "        model = SARIMAX(history, order=order, exog=exog_train)\n",
    "        model_fit = model.fit(disp=False)\n",
    "\n",
    "        # Forecast next 'step' periods using test exogenous data\n",
    "        exog_forecast = test[exog_vars].iloc[i:i+step]  \n",
    "\n",
    "        # **Fix: Ensure exog_forecast has the correct shape**\n",
    "        if len(exog_forecast) < step:\n",
    "            # Pad with the last available values if not enough rows\n",
    "            last_row = exog_forecast.iloc[-1:]\n",
    "            missing_rows = step - len(exog_forecast)\n",
    "            exog_forecast = pd.concat([exog_forecast] + [last_row] * missing_rows)\n",
    "\n",
    "        forecast = model_fit.forecast(steps=step, exog=exog_forecast)\n",
    "\n",
    "        # Store predictions\n",
    "        predictions.extend(forecast)\n",
    "\n",
    "        # Move forward by 'step' weeks in real data\n",
    "        actual_values = test[\"value\"].iloc[i:i+step].tolist()\n",
    "        history.extend(actual_values)  # Update history with real values\n",
    "        exog_history = pd.concat([exog_history, test[exog_vars].iloc[i:i+step]])  # Update exogenous data\n",
    "\n",
    "    # Convert predictions to Pandas Series\n",
    "    predicted_series = pd.Series(predictions[:len(test)], index=test_index)  \n",
    "\n",
    "    # Calculate MAPE\n",
    "    mape = mean_absolute_percentage_error(test[\"value\"], predicted_series)\n",
    "    print(f\"Mean Absolute Percentage Error (MAPE): {mape:.2f}%\")\n",
    "\n",
    "    # Plot results\n",
    "    plt.figure(figsize=(15, 7))\n",
    "    plt.plot(train.index, train[\"value\"], color='blue', label='Training Data')  \n",
    "    plt.plot(test.index, test[\"value\"], color='orange', label='Actual Test Data')  \n",
    "    plt.plot(predicted_series, color='green', linestyle='dashed', label='Rolling 4-Week Forecast')  \n",
    "    plt.legend(loc='upper left')\n",
    "    plt.title(\"Rolling SARIMAX - 4-Week Forecasting\")\n",
    "    plt.xlabel(\"Date\")\n",
    "    plt.ylabel(\"Value\")\n",
    "    plt.show()\n",
    "    return model, predicted_series, mape\n",
    "# Run rolling forecast with SARIMAX\n",
    "sarimax_mod,prediction_sarimax,mape_sarimax = rolling_forecast_sarimax((2, 1, 2), train, test, exog_vars, step=4)\n"
   ]
  },
  {
   "cell_type": "code",
   "execution_count": null,
   "metadata": {},
   "outputs": [],
   "source": [
    "mape_sarimax"
   ]
  },
  {
   "cell_type": "code",
   "execution_count": null,
   "metadata": {},
   "outputs": [],
   "source": [
    "import joblib"
   ]
  },
  {
   "cell_type": "code",
   "execution_count": null,
   "metadata": {},
   "outputs": [],
   "source": [
    "ARIMA_model = pm.auto_arima(train['value'],\n",
    "                      exogenous = train[['relative_humidity_2m','temperature_2m_max','temperature_2m_min','covid']],\n",
    "                      test='adf', # use adftest to find optimal 'd'\n",
    "                      max_p=3, max_q=3, # maximum p and q\n",
    "                      m=52,\n",
    "                      d=None,# let model determine 'd'\n",
    "                      seasonal=True, # No Seasonality for standard ARIMA\n",
    "                      trace=True, #logs\n",
    "                      error_action='warn', #shows errors ('ignore' silences these)\n",
    "                      suppress_warnings=True,\n",
    "                      n_jobs=-1,\n",
    "                      stepwise=True)\n",
    "model_path = \"arima_model_be_v2.pkl\"\n",
    "\n",
    "# Save the model\n",
    "joblib.dump(ARIMA_model, model_path)\n",
    "print(f\"Model saved at: {model_path}\")"
   ]
  },
  {
   "cell_type": "code",
   "execution_count": null,
   "metadata": {},
   "outputs": [],
   "source": [
    "ARIMA_model.summary()"
   ]
  },
  {
   "cell_type": "code",
   "execution_count": null,
   "metadata": {},
   "outputs": [],
   "source": [
    "ARIMA_model.plot_diagnostics(figsize=(15,12))\n",
    "plt.show()"
   ]
  }
 ],
 "metadata": {
  "kernelspec": {
   "display_name": "tfm",
   "language": "python",
   "name": "python3"
  },
  "language_info": {
   "codemirror_mode": {
    "name": "ipython",
    "version": 3
   },
   "file_extension": ".py",
   "mimetype": "text/x-python",
   "name": "python",
   "nbconvert_exporter": "python",
   "pygments_lexer": "ipython3",
   "version": "3.11.11"
  }
 },
 "nbformat": 4,
 "nbformat_minor": 2
}
