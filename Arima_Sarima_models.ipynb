{
 "cells": [
  {
   "cell_type": "code",
   "execution_count": null,
   "id": "6e53b0d2",
   "metadata": {},
   "outputs": [],
   "source": [
    "import pandas as pd\n",
    "import numpy as np\n",
    "import pandas as pd\n",
    "from datetime import datetime\n",
    "import matplotlib.pylab as plt\n",
    "from matplotlib.pylab import rcParams\n",
    "from statsmodels.tsa.stattools import adfuller\n",
    "from statsmodels.graphics.tsaplots import plot_acf, plot_pacf\n",
    "import pmdarima as pm\n",
    "from pmdarima import auto_arima,arima\n",
    "import warnings\n",
    "from statsmodels.api import sm\n",
    "from sklearn.metrics import mean_absolute_error, root_mean_squared_error"
   ]
  },
  {
   "cell_type": "code",
   "execution_count": 12,
   "id": "b72893b9",
   "metadata": {},
   "outputs": [],
   "source": [
    "ari = pd.read_csv(\"data_ari.csv\",sep=\",\",dtype={'location':str,'year_week':str,\n",
    "                                                'value':np.float32,'relative_humidity_2m':np.float64,\n",
    "                                                'temperature_2m_max':np.float64,'temperature_2m_min':np.float64},\n",
    "                                                parse_dates=['truth_date'])\n",
    "ari = ari.drop(columns=['Unnamed: 0']).reset_index(drop=True)\n"
   ]
  },
  {
   "cell_type": "code",
   "execution_count": 13,
   "id": "68b095a3",
   "metadata": {},
   "outputs": [],
   "source": [
    "ili = pd.read_csv(\"data_ili.csv\",sep=\",\",dtype={'location':str,'year_week':str,\n",
    "                                                'value':np.float32,'relative_humidity_2m':np.float64,\n",
    "                                                'temperature_2m_max':np.float64,'temperature_2m_min':np.float64},\n",
    "                                                parse_dates=['truth_date'])\n",
    "ili = ili.drop(columns=['Unnamed: 0']).reset_index(drop=True)"
   ]
  },
  {
   "cell_type": "code",
   "execution_count": null,
   "id": "230b8d48",
   "metadata": {},
   "outputs": [],
   "source": [
    "def eval_metrics(y_true, y_pred):\n",
    "    y_true, y_pred = np.array(y_true), np.array(y_pred)\n",
    "\n",
    "    mask = ~np.isnan(y_true) & ~np.isnan(y_pred)\n",
    "    if mask.sum() == 0:\n",
    "        return np.nan, np.nan\n",
    "\n",
    "    mae = mean_absolute_error(y_true[mask], y_pred[mask])\n",
    "    rmse = root_mean_squared_error(y_true[mask], y_pred[mask])\n",
    "    # mae = np.mean(np.abs(y_true[mask] - y_pred[mask]))\n",
    "    return mae, rmse"
   ]
  },
  {
   "cell_type": "code",
   "execution_count": 15,
   "id": "75e27346",
   "metadata": {},
   "outputs": [],
   "source": [
    "def train_data(df,location,date):\n",
    "    df = df[df['location']==location]\n",
    "    df = df.set_index('truth_date')\n",
    "    train = df[df.index<=date]\n",
    "    test = df[df.index>date]\n",
    "    return train,test"
   ]
  },
  {
   "cell_type": "code",
   "execution_count": null,
   "id": "bdb3d7aa",
   "metadata": {},
   "outputs": [],
   "source": [
    "def plot_train_test(train,test,model_name,location,aux):\n",
    "    plt.figure(figsize=(15,17))\n",
    "    plt.plot(train.index, train[\"value\"], color='blue', label='Training Data')  \n",
    "    plt.plot(test.index, test[\"value\"], color='orange', label='Actual Test Data')  \n",
    "    plt.plot(test[model_name], color='green', linestyle='dashed', label=f'{model_name} Forecast')  \n",
    "    plt.legend(loc='upper left')\n",
    "    plt.title(f\"{model_name} Forecasting\")\n",
    "    plt.xlabel(\"Date\")\n",
    "    plt.ylabel(\"Value\")\n",
    "    plt.savefig(f\"plots_naive/plot_{location}_{aux}.jpg\", format='jpg', dpi=300)       \n",
    "    "
   ]
  },
  {
   "cell_type": "code",
   "execution_count": null,
   "id": "ecad284e",
   "metadata": {},
   "outputs": [],
   "source": [
    "def arima_model(train,test,mape,sp = 52):\n",
    "    # finding best ARIMA and SARIMA model\n",
    "    ARIMA_model = pm.auto_arima(\n",
    "        train[\"value\"],\n",
    "        start_p=0, start_q=0,\n",
    "        max_p=4, max_q=4,\n",
    "        d=None,         \n",
    "        max_d=2,\n",
    "        seasonal=False,  \n",
    "        stepwise=True,\n",
    "        test='adf',      \n",
    "        trace=False,\n",
    "        suppress_warnings=True,\n",
    "        error_action='ignore'\n",
    "    )\n",
    "    ARIMA_model.fit(train['value'])\n",
    "    order_arima = ARIMA_model.get_params()['order']\n",
    "\n",
    "    SARIMA_model = pm.auto_arima(\n",
    "        train[\"value\"],\n",
    "        start_p=0, start_q=0,\n",
    "        max_p=4, max_q=4,\n",
    "        start_P=0, max_P=2,\n",
    "        start_Q=0, max_Q=2,\n",
    "        max_d=2, max_D=1,\n",
    "        m=52,  # 52 weeks = 1 year seasonality\n",
    "        d=None, D=1,\n",
    "        seasonal=True,\n",
    "        test='adf',\n",
    "        trace=False,\n",
    "        stepwise=True,\n",
    "        suppress_warnings=True,\n",
    "        error_action='ignore'\n",
    "    )\n",
    "    SARIMA_model.fit(train['value'])\n",
    "    order_sarima = SARIMA_model.get_params()['order']\n",
    "    \n",
    "    # Forecasting\n",
    "\n"
   ]
  },
  {
   "cell_type": "code",
   "execution_count": 17,
   "id": "f13860f2",
   "metadata": {},
   "outputs": [],
   "source": [
    "train, test = train_data(ari, \"BE\", \"2023-10-13\")\n"
   ]
  }
 ],
 "metadata": {
  "kernelspec": {
   "display_name": "tfm",
   "language": "python",
   "name": "python3"
  },
  "language_info": {
   "codemirror_mode": {
    "name": "ipython",
    "version": 3
   },
   "file_extension": ".py",
   "mimetype": "text/x-python",
   "name": "python",
   "nbconvert_exporter": "python",
   "pygments_lexer": "ipython3",
   "version": "3.11.11"
  }
 },
 "nbformat": 4,
 "nbformat_minor": 5
}
