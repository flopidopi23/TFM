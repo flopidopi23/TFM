{
 "cells": [
  {
   "cell_type": "code",
   "execution_count": null,
   "id": "6e53b0d2",
   "metadata": {},
   "outputs": [],
   "source": [
    "import pandas as pd\n",
    "import numpy as np\n",
    "from datetime import datetime\n",
    "import matplotlib.pylab as plt\n",
    "from matplotlib.pylab import rcParams\n",
    "import pmdarima as pm\n",
    "from pmdarima import auto_arima,arima\n",
    "import warnings\n",
    "# get functions from utils.py\n",
    "from utils import train_data,eval_metrics,plot_train_test\n",
    "from statsmodels.tsa.statespace.sarimax import SARIMAX\n",
    "from joblib import dump, load\n",
    "import gc\n",
    "from statsmodels.graphics.tsaplots import plot_acf"
   ]
  },
  {
   "cell_type": "code",
   "execution_count": null,
   "id": "b72893b9",
   "metadata": {},
   "outputs": [],
   "source": [
    "ari = pd.read_csv(\"data_ari.csv\",sep=\",\",dtype={'location':str,'year_week':str,\n",
    "                                                'value':np.float32,'relative_humidity_2m':np.float64,\n",
    "                                                'temperature_2m_max':np.float64,'temperature_2m_min':np.float64},\n",
    "                                                parse_dates=['truth_date'])\n",
    "ari = ari.drop(columns=['Unnamed: 0']).reset_index(drop=True)\n"
   ]
  },
  {
   "cell_type": "code",
   "execution_count": null,
   "id": "68b095a3",
   "metadata": {},
   "outputs": [],
   "source": [
    "ili = pd.read_csv(\"data_ili.csv\",sep=\",\",dtype={'location':str,'year_week':str,\n",
    "                                                'value':np.float32,'relative_humidity_2m':np.float64,\n",
    "                                                'temperature_2m_max':np.float64,'temperature_2m_min':np.float64},\n",
    "                                                parse_dates=['truth_date'])\n",
    "ili = ili.drop(columns=['Unnamed: 0']).reset_index(drop=True)"
   ]
  },
  {
   "cell_type": "code",
   "execution_count": null,
   "id": "32307512",
   "metadata": {},
   "outputs": [],
   "source": [
    "mape_ari = pd.DataFrame(columns=['location','model','prediction_window','mae','rmse'])\n",
    "mape_ili = pd.DataFrame(columns=['location','model','prediction_window','mae','rmse'])"
   ]
  },
  {
   "cell_type": "code",
   "execution_count": null,
   "id": "ecad284e",
   "metadata": {},
   "outputs": [],
   "source": [
    "def arima_model_auto(train,exogenous_var = None,loc=None,type=None):\n",
    "    # finding best ARIMA and SARIMA model\n",
    "    ARIMA_model = pm.auto_arima(\n",
    "        train[\"value\"],\n",
    "        start_p=0, start_q=0,\n",
    "        max_p=4, max_q=4,\n",
    "        d=None,\n",
    "        start_d=0,         \n",
    "        max_d=2,\n",
    "        exogenous=exogenous_var,\n",
    "        seasonal=False,  \n",
    "        stepwise=True,\n",
    "        test='adf',      \n",
    "        trace=False,\n",
    "        suppress_warnings=True,\n",
    "        error_action='ignore'\n",
    "    )\n",
    "    order_arima = ARIMA_model.get_params()['order']\n",
    "    \n",
    "    #save the models\n",
    "    if exogenous_var is not None:\n",
    "        dump(ARIMA_model, f\"models/arimax_model_{loc}_{type}.joblib\")\n",
    "    else:\n",
    "        dump(ARIMA_model, f\"models/arima_model_{loc}_{type}.joblib\")\n",
    "\n",
    "    \n",
    "    return order_arima\n"
   ]
  },
  {
   "cell_type": "code",
   "execution_count": null,
   "id": "87564896",
   "metadata": {},
   "outputs": [],
   "source": [
    "def sarima_model_auto(train,sp = 52,exogenous_var = None,loc=None,type=None):\n",
    "    # finding best SARIMA model\n",
    "    SARIMA_model = pm.auto_arima(\n",
    "        train[\"value\"],\n",
    "        start_p=0, start_q=0,\n",
    "        max_p=2, max_q=2,\n",
    "        start_P=0, max_P=1,\n",
    "        start_Q=0, max_Q=1,\n",
    "        start_D=0,D = 0 ,\n",
    "        max_d=2, max_D=1,\n",
    "        m=sp,  # 1 year seasonality\n",
    "        d=None,\n",
    "        seasonal=True,\n",
    "        exogenous=exogenous_var,\n",
    "        test='adf',\n",
    "        trace=False,\n",
    "        stepwise=True,\n",
    "        suppress_warnings=True,\n",
    "        error_action='ignore'\n",
    "    )\n",
    "    order_sarima = SARIMA_model.get_params()['order']\n",
    "    seasonal_order = SARIMA_model.get_params()['seasonal_order']\n",
    "    \n",
    "    \n",
    "    #save the models\n",
    "    if exogenous_var is not None:\n",
    "        dump(SARIMA_model, f\"models/sarimax_model_{loc}_{type}.joblib\")\n",
    "    else:\n",
    "        dump(SARIMA_model, f\"models/sarima_model_{loc}_{type}.joblib\")\n",
    "    \n",
    "    return order_sarima,seasonal_order\n"
   ]
  },
  {
   "cell_type": "code",
   "execution_count": null,
   "id": "45f17c2a",
   "metadata": {},
   "outputs": [],
   "source": [
    "def forecast_arima_sarima_model(train, test, mape, order_model, seasonal_order_model=(0,0,0,0), model_name=\"no_model_def\", country=\"no_country_def\",exogenous_var=None):\n",
    "    test_aux = test.copy()\n",
    "\n",
    "    # Prepare prediction columns\n",
    "    for h in range(4):\n",
    "        test_aux[f\"prediction_{h+1}_weeks\"] = np.nan\n",
    "\n",
    "    # Rolling forecast\n",
    "    for i in range(len(test_aux)):\n",
    "        # Combine train and observed test values so far\n",
    "        train_series = pd.concat([train[\"value\"], test_aux.iloc[:i][\"value\"]])\n",
    "        if exogenous_var is not None:\n",
    "            exog_train = pd.concat([train[exogenous_var], test_aux.iloc[:i][exogenous_var]])\n",
    "            exog_forecast = test_aux.iloc[i:i+4][exogenous_var]\n",
    "        else:\n",
    "            exog_train = None\n",
    "            exog_forecast = None        \n",
    "\n",
    "        # Fit model\n",
    "        model = SARIMAX(train_series, order=order_model, seasonal_order=seasonal_order_model,exog=exog_train)\n",
    "        model_fit = model.fit(disp=False)\n",
    "        \n",
    "        # Forecast 1 to 4 weeks ahead, or less at the end\n",
    "        forecast_steps = min(4, len(test_aux) - i)\n",
    "        forecast = model_fit.forecast(steps=forecast_steps, exog=exog_forecast.iloc[:forecast_steps])\n",
    "\n",
    "        # Save forecasted values\n",
    "        #for h, pred in enumerate(forecast):\n",
    "        #    test_aux.loc[test_aux.index[i + h], f\"prediction_{h+1}_weeks\"] = pred\n",
    "        \n",
    "        for h in range(forecast_steps):\n",
    "            test_aux.loc[test_aux.index[i + h], f\"prediction_{h+1}_weeks\"] = forecast.iloc[h]\n",
    "\n",
    "    # Evaluate predictions\n",
    "    for h in range(4):\n",
    "        shifted = test_aux[\"value\"].shift(-h)\n",
    "        preds = test_aux[f\"prediction_{h+1}_weeks\"]\n",
    "        valid_idx = ~shifted.isna()\n",
    "        mae, rmse = eval_metrics(shifted[valid_idx], preds[valid_idx])\n",
    "        mape = pd.concat([\n",
    "            mape,\n",
    "            pd.DataFrame([[country, model_name, f\"{h+1}_week\", mae, rmse]],\n",
    "                         columns=['location', 'model', 'prediction_window', 'mae', 'rmse'])\n",
    "        ], ignore_index=True)\n",
    "\n",
    "    return mape, test_aux\n"
   ]
  },
  {
   "cell_type": "code",
   "execution_count": null,
   "id": "bb89a918",
   "metadata": {},
   "outputs": [],
   "source": [
    "mape_ari = pd.DataFrame(columns=['location','model','prediction_window','mae','rmse'])\n",
    "#mape_ili = pd.DataFrame(columns=['location','model','prediction_window','mae','rmse'])"
   ]
  },
  {
   "cell_type": "code",
   "execution_count": null,
   "id": "4304644e",
   "metadata": {},
   "outputs": [],
   "source": [
    "#mape_ari =pd.read_csv(\"mape_ari_arima_sarima.csv\",index_col=0)\n",
    "#mape_ili= pd.read_csv(\"mape_ili_arima_sarima.csv\",index_col=0)\n"
   ]
  },
  {
   "cell_type": "code",
   "execution_count": null,
   "id": "098cedb3",
   "metadata": {},
   "outputs": [],
   "source": [
    "name_ari = ari[\"location\"].unique()\n",
    "name_ili = ili[\"location\"].unique()"
   ]
  },
  {
   "cell_type": "code",
   "execution_count": null,
   "id": "14c68eff",
   "metadata": {},
   "outputs": [],
   "source": [
    "for i in name_ari:\n",
    "    print(f\"Processing ARI for location: {i}\")  \n",
    "    df = ari[ari['location']==i]\n",
    "    plot_acf(df['value'], lags=52)  # Check 2 years (104 weeks)\n"
   ]
  },
  {
   "cell_type": "code",
   "execution_count": null,
   "id": "c020b90f",
   "metadata": {},
   "outputs": [],
   "source": [
    "for i in name_ari:\n",
    "    print(f\"Processing location: {i}\")\n",
    "    train, test = train_data(ari,i, \"2023-10-13\")\n",
    "    order_arima = arima_model_auto(train,exogenous_var=None,loc=i,type='ARI') \n",
    "    mape_ari, test_ari_arima = forecast_arima_sarima_model(train, test,mape_ari, order_arima,seasonal_order_model = (0,0,0,0), model_name=\"ARIMA\", country=i)\n",
    "    plot_train_test(train, test_ari_arima,\"ARI_ARIMA\",i,'arima_sarima')\n"
   ]
  },
  {
   "cell_type": "code",
   "execution_count": null,
   "id": "8164c6fe",
   "metadata": {},
   "outputs": [],
   "source": [
    "mape_ari[mape_ari['location']=='ES']"
   ]
  },
  {
   "cell_type": "code",
   "execution_count": null,
   "id": "190e0759",
   "metadata": {},
   "outputs": [],
   "source": [
    "'''\n",
    "for i in name_ili:\n",
    "    print(f\"Processing location: {i}\")\n",
    "    train, test = train_data(ili,i, \"2023-10-13\")\n",
    "    order_arima = arima_model_auto(train,exogenous_var=None,loc=i,type='ILI') \n",
    "    mape_ili, test_ili_arima = forecast_arima_sarima_model(train, test,mape_ili, order_arima,seasonal_order_model = (0,0,0,0), model_name=\"ARIMA\", country=i)\n",
    "    plot_train_test(train, test_ili_arima,\"ILI_ARIMA\",i,'arima_sarima')\n",
    "'''"
   ]
  },
  {
   "cell_type": "code",
   "execution_count": null,
   "id": "664fdf53",
   "metadata": {},
   "outputs": [],
   "source": [
    "'''\n",
    "for i in name_ili:\n",
    "    print(f\"Processing location: {i}\")\n",
    "    train, test = train_data(ili,i, \"2023-10-13\")\n",
    "    order_sarima,seasonal_patron = sarima_model_auto(train,sp=52,exogenous_var=None,loc=i,type='ILI') \n",
    "    print(f'Procesando prediccion SARIMA para {i}')\n",
    "    mape_ili, test_ili_sarima = forecast_arima_sarima_model(train, test,mape_ili, order_sarima,seasonal_order_model =seasonal_patron, model_name=\"SARIMA\", country=i)\n",
    "    plot_train_test(train, test_ili_sarima,\"ILI_SARIMA\",i,'arima_sarima')\n",
    "'''"
   ]
  },
  {
   "cell_type": "code",
   "execution_count": null,
   "id": "9f620003",
   "metadata": {},
   "outputs": [],
   "source": [
    "for i in name_ari:\n",
    "    print(f\"Processing location: {i}\")\n",
    "    train, test = train_data(ari,i, \"2023-10-13\")\n",
    "    order_sarima,seasonal_patron = sarima_model_auto(train,exogenous_var=None,loc=i,type='ARI') \n",
    "    mape_ari, test_ari_arima = forecast_arima_sarima_model(train, test,mape_ari, order_sarima,seasonal_order_model =seasonal_patron, model_name=\"SARIMA\", country=i)\n",
    "    plot_train_test(train, test_ari_arima,\"ARI_SARIMA\",i,'arima_sarima')"
   ]
  },
  {
   "cell_type": "code",
   "execution_count": null,
   "id": "e3a79e6d",
   "metadata": {},
   "outputs": [],
   "source": [
    "mape_ari.to_csv(\"mape_ari_arima_sarima.csv\",index=False)\n",
    "#mape_ili.to_csv(\"mape_ili_arima_sarima.csv\",index=False)"
   ]
  },
  {
   "cell_type": "code",
   "execution_count": null,
   "id": "c5a42136",
   "metadata": {},
   "outputs": [],
   "source": [
    "mape_ari"
   ]
  },
  {
   "cell_type": "code",
   "execution_count": null,
   "id": "dc6ac7c7",
   "metadata": {},
   "outputs": [],
   "source": [
    "mape_arix = pd.DataFrame(columns=['location','model','prediction_window','mae','rmse'])\n",
    "mape_ilix = pd.DataFrame(columns=['location','model','prediction_window','mae','rmse'])"
   ]
  },
  {
   "cell_type": "code",
   "execution_count": null,
   "id": "dd71a508",
   "metadata": {},
   "outputs": [],
   "source": [
    "for i in name_ari:\n",
    "    print(f\"Processing location: {i}\")\n",
    "    train, test = train_data(ari,i, \"2023-10-13\")\n",
    "    order_arimax = arima_model_auto(train,exogenous_var=train[['relative_humidity_2m','temperature_2m_max','temperature_2m_min','covid']],loc=i,type='ARI') \n",
    "    mape_arix, test_ari_arimax = forecast_arima_sarima_model(train, test,mape_ari, order_arima,seasonal_order_model = (0,0,0,0), model_name=\"ARIMAX\", country=i,exogenous_var=['relative_humidity_2m','temperature_2m_max','temperature_2m_min','covid'])\n",
    "    plot_train_test(train, test_ari_arimax,\"ARI_ARIMAX\",i,'arimax_sarimax')\n"
   ]
  },
  {
   "cell_type": "code",
   "execution_count": null,
   "id": "bd25325b",
   "metadata": {},
   "outputs": [],
   "source": [
    "for i in name_ili:\n",
    "    print(f\"Processing location: {i}\")\n",
    "    train, test = train_data(ili,i, \"2023-10-13\")\n",
    "    order_arimax = arima_model_auto(train,loc=i,type='ILI',exogenous_var=train[['relative_humidity_2m','temperature_2m_max','temperature_2m_min','covid']]) \n",
    "    mape_ilix, test_ili_arimax = forecast_arima_sarima_model(train, test,mape_ili, order_arima,seasonal_order_model = (0,0,0,0), model_name=\"ARIMAX\", country=i,exogenous_var=['relative_humidity_2m','temperature_2m_max','temperature_2m_min','covid'])\n",
    "    plot_train_test(train, test_ili_arimax,\"ILI_ARIMAX\",i,'arimax_sarimax')\n"
   ]
  },
  {
   "cell_type": "code",
   "execution_count": null,
   "id": "f1357f7c",
   "metadata": {},
   "outputs": [],
   "source": [
    "for i in name_ili:\n",
    "    print(f\"Processing location: {i}\")\n",
    "    train, test = train_data(ili,i, \"2023-10-13\")\n",
    "    order_sarimax,seasonal_patron = sarima_model_auto(train,sp=52,loc=i,type='ILI',exogenous_var=train[['relative_humidity_2m','temperature_2m_max','temperature_2m_min','covid']]) \n",
    "    print(f'Procesando prediccion SARIMA para {i}')\n",
    "    mape_ilix, test_ili_sarimax = forecast_arima_sarima_model(train, test,mape_ili, order_sarimax,seasonal_order_model =seasonal_patron, model_name=\"SARIMAX\", country=i,exogenous_var=['relative_humidity_2m','temperature_2m_max','temperature_2m_min','covid'])\n",
    "    plot_train_test(train, test_ili_sarimax,\"ILI_SARIMAX_cov\",i,'arimax_sarimax')\n"
   ]
  },
  {
   "cell_type": "code",
   "execution_count": null,
   "id": "e98af980",
   "metadata": {},
   "outputs": [],
   "source": [
    "for i in name_ari:\n",
    "    print(f\"Processing location: {i}\")\n",
    "    train, test = train_data(ari,i, \"2023-10-13\")\n",
    "    order_sarimax,seasonal_patron = sarima_model_auto(train,loc=i,type='ARI',exogenous_var=train[['relative_humidity_2m','temperature_2m_max','temperature_2m_min','covid']]) \n",
    "    mape_arix, test_ari_arimax = forecast_arima_sarima_model(train, test,mape_ari, order_sarimax,seasonal_order_model =seasonal_patron, model_name=\"SARIMAX\", country=i,exogenous_var=['relative_humidity_2m','temperature_2m_max','temperature_2m_min','covid'])\n",
    "    plot_train_test(train, test_ari_arimax,\"ARI_SARIMAX_cov\",i,'arimax_sarimax')"
   ]
  },
  {
   "cell_type": "code",
   "execution_count": null,
   "id": "0525e8e4",
   "metadata": {},
   "outputs": [],
   "source": [
    "mape_arix.to_csv(\"mape_ari_arimax_sarimax.csv\",index=False)\n",
    "mape_ilix.to_csv(\"mape_ili_arimax_sarimax.csv\",index=False)"
   ]
  }
 ],
 "metadata": {
  "kernelspec": {
   "display_name": "tfm",
   "language": "python",
   "name": "python3"
  },
  "language_info": {
   "codemirror_mode": {
    "name": "ipython",
    "version": 3
   },
   "file_extension": ".py",
   "mimetype": "text/x-python",
   "name": "python",
   "nbconvert_exporter": "python",
   "pygments_lexer": "ipython3",
   "version": "3.11.11"
  }
 },
 "nbformat": 4,
 "nbformat_minor": 5
}
