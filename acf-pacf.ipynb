{
 "cells": [
  {
   "cell_type": "markdown",
   "metadata": {},
   "source": [
    "## Analysis ACF - PCF Time series "
   ]
  },
  {
   "cell_type": "code",
   "execution_count": null,
   "metadata": {},
   "outputs": [],
   "source": [
    "import pandas as pd\n",
    "import numpy as np\n",
    "import pandas as pd\n",
    "from datetime import datetime\n",
    "import matplotlib.pylab as plt\n",
    "from matplotlib.pylab import rcParams\n",
    "from statsmodels.tsa.stattools import adfuller\n",
    "#!pip install pmdarima --quiet\n",
    "import pmdarima as pm\n",
    "from statsmodels.graphics.tsaplots import plot_acf, plot_pacf\n",
    "from statsmodels.tsa.arima.model import ARIMA"
   ]
  },
  {
   "cell_type": "code",
   "execution_count": null,
   "metadata": {},
   "outputs": [],
   "source": [
    "ari = pd.read_csv(\"data_ari.csv\",sep=\",\",dtype={'location':str,'year_week':str,\n",
    "                                                'value':np.float32,'relative_humidity_2m':np.float64,\n",
    "                                                'temperature_2m_max':np.float64,'temperature_2m_min':np.float64},\n",
    "                                                parse_dates=['truth_date'])\n",
    "ari = ari.drop(columns=['Unnamed: 0']).reset_index(drop=True)\n",
    "ari.tail()"
   ]
  },
  {
   "cell_type": "code",
   "execution_count": null,
   "metadata": {},
   "outputs": [],
   "source": [
    "ili = pd.read_csv(\"data_ili.csv\",sep=\",\",dtype={'location':str,'year_week':str,\n",
    "                                                'value':np.float32,'relative_humidity_2m':np.float64,\n",
    "                                                'temperature_2m_max':np.float64,'temperature_2m_min':np.float64},\n",
    "                                                parse_dates=['truth_date'])\n",
    "ili = ili.drop(columns=['Unnamed: 0']).reset_index(drop=True)\n",
    "ili.tail()"
   ]
  },
  {
   "cell_type": "code",
   "execution_count": null,
   "metadata": {},
   "outputs": [],
   "source": [
    "# Group the data by country\n",
    "countries_ari = ['BE', 'BG', 'CZ', 'EE', 'FR', 'DE', 'HU', 'LT', 'RO',\n",
    "       'SI', 'ES','LV']\n",
    "countries_ari2 = ['LU']"
   ]
  },
  {
   "cell_type": "code",
   "execution_count": null,
   "metadata": {},
   "outputs": [],
   "source": [
    "# Plot data for each country\n",
    "plt.figure(figsize=(12, 8))\n",
    "for country in countries_ari:\n",
    "    country_data = ari[ari['value']<6000]\n",
    "    country_data = country_data[country_data['location'] == country]\n",
    "    plt.plot(country_data['truth_date'], country_data['value'], label=country)\n",
    "\n",
    "# Customize the plot\n",
    "plt.title('Values Over Time by Country')\n",
    "plt.xlabel('Date')\n",
    "plt.ylabel('Value')\n",
    "plt.legend(title='Country', bbox_to_anchor=(1.05, 1), loc='upper left')\n",
    "plt.grid(True)\n",
    "plt.tight_layout()\n",
    "\n",
    "# Show the plot\n",
    "plt.show()"
   ]
  },
  {
   "cell_type": "code",
   "execution_count": null,
   "metadata": {},
   "outputs": [],
   "source": [
    "# Plot data for each country\n",
    "plt.figure(figsize=(12, 8))\n",
    "for country in countries_ari2:\n",
    "    country_data = ari[ari['value']<6000]\n",
    "    country_data = country_data[country_data['location'] == country]\n",
    "    plt.plot(country_data['truth_date'], country_data['value'], label=country)\n",
    "\n",
    "# Customize the plot\n",
    "plt.title('Values Over Time by Country')\n",
    "plt.xlabel('Date')\n",
    "plt.ylabel('Value')\n",
    "plt.legend(title='Country', bbox_to_anchor=(1.05, 1), loc='upper left')\n",
    "plt.grid(True)\n",
    "plt.tight_layout()\n",
    "\n",
    "# Show the plot\n",
    "plt.show()"
   ]
  },
  {
   "cell_type": "code",
   "execution_count": null,
   "metadata": {},
   "outputs": [],
   "source": [
    "ari[ari['value']>50000]"
   ]
  },
  {
   "cell_type": "code",
   "execution_count": null,
   "metadata": {},
   "outputs": [],
   "source": [
    "aux_ili = ['SI', 'DK', 'EE', 'PL', 'FR', 'AT', 'HR', 'RO', 'GR', 'HU', 'IE',\n",
    "       'LV', 'BE', 'LT', 'NL', 'CZ', 'NO']\n",
    "\n",
    "country_ili_2 = ['LU','MT']"
   ]
  },
  {
   "cell_type": "code",
   "execution_count": null,
   "metadata": {},
   "outputs": [],
   "source": [
    "# Plot data for each country\n",
    "plt.figure(figsize=(12, 8))\n",
    "for country in aux_ili:\n",
    "    country_data = ili[ili['value']<50000]\n",
    "    country_data = country_data[country_data['location'] == country]\n",
    "    plt.plot(country_data['truth_date'], country_data['value'], label=country)\n",
    "\n",
    "# Customize the plot\n",
    "plt.title('Values Over Time by Country')\n",
    "plt.xlabel('Date')\n",
    "plt.ylabel('Value')\n",
    "plt.legend(title='Country', bbox_to_anchor=(1.05, 1), loc='upper left')\n",
    "plt.grid(True)\n",
    "plt.tight_layout()\n",
    "\n",
    "# Show the plot\n",
    "plt.show()"
   ]
  },
  {
   "cell_type": "code",
   "execution_count": null,
   "metadata": {},
   "outputs": [],
   "source": [
    "# Plot data for each country\n",
    "plt.figure(figsize=(12, 8))\n",
    "for country in country_ili_2:\n",
    "    country_data = ili[ili['value']<50000]\n",
    "    country_data = country_data[country_data['location'] == country]\n",
    "    plt.plot(country_data['truth_date'], country_data['value'], label=country)\n",
    "\n",
    "# Customize the plot\n",
    "plt.title('Values Over Time by Country')\n",
    "plt.xlabel('Date')\n",
    "plt.ylabel('Value')\n",
    "plt.legend(title='Country', bbox_to_anchor=(1.05, 1), loc='upper left')\n",
    "plt.grid(True)\n",
    "plt.tight_layout()\n",
    "\n",
    "# Show the plot\n",
    "plt.show()"
   ]
  },
  {
   "cell_type": "code",
   "execution_count": null,
   "metadata": {},
   "outputs": [],
   "source": [
    "def stat_check(data,country):\n",
    "    dat = data[data['location']==country]\n",
    "    adf_test = adfuller(dat['value'])\n",
    "    print(f'p-value: %f for {country}' % adf_test[1])\n"
   ]
  },
  {
   "cell_type": "code",
   "execution_count": null,
   "metadata": {},
   "outputs": [],
   "source": [
    "for i in aux_ili:\n",
    "    stat_check(ili,i)"
   ]
  },
  {
   "cell_type": "code",
   "execution_count": null,
   "metadata": {},
   "outputs": [],
   "source": [
    "for i in country_ili_2:\n",
    "    stat_check(ili,i)"
   ]
  },
  {
   "cell_type": "code",
   "execution_count": null,
   "metadata": {},
   "outputs": [],
   "source": [
    "for i in countries_ari:\n",
    "    stat_check(ari,i)"
   ]
  },
  {
   "cell_type": "code",
   "execution_count": null,
   "metadata": {},
   "outputs": [],
   "source": [
    "for i in countries_ari2:\n",
    "    stat_check(ari,i)"
   ]
  },
  {
   "cell_type": "code",
   "execution_count": null,
   "metadata": {},
   "outputs": [],
   "source": [
    "for country in countries_ari:\n",
    "    country_data = ari[ari['location'] == country]['value']\n",
    "    \n",
    "    # Create a figure for the plots\n",
    "    plt.figure(figsize=(12, 6))\n",
    "    plt.suptitle(f\"ACF and PACF for {country}\", fontsize=16)\n",
    "    \n",
    "    # Plot ACF\n",
    "    plt.subplot(1, 2, 1)\n",
    "    plot_acf(country_data, lags=104, ax=plt.gca())\n",
    "    plt.title(\"ACF\")\n",
    "    \n",
    "    # Plot PACF\n",
    "    plt.subplot(1, 2, 2)\n",
    "    plot_pacf(country_data, lags=104, ax=plt.gca(), method='ywm')\n",
    "    plt.title(\"PACF\")\n",
    "    \n",
    "    # Show the plots for the current country\n",
    "    plt.tight_layout(rect=[0, 0.03, 1, 0.95])\n",
    "    plt.show()"
   ]
  },
  {
   "cell_type": "code",
   "execution_count": null,
   "metadata": {},
   "outputs": [],
   "source": [
    "for country in countries_ari2:\n",
    "    country_data = ari[ari['location'] == country]['value']\n",
    "    \n",
    "    # Create a figure for the plots\n",
    "    plt.figure(figsize=(12, 6))\n",
    "    plt.suptitle(f\"ACF and PACF for {country}\", fontsize=16)\n",
    "    \n",
    "    # Plot ACF\n",
    "    plt.subplot(1, 2, 1)\n",
    "    plot_acf(country_data, lags=104, ax=plt.gca())\n",
    "    plt.title(\"ACF\")\n",
    "    \n",
    "    # Plot PACF\n",
    "    plt.subplot(1, 2, 2)\n",
    "    plot_pacf(country_data, lags=104, ax=plt.gca(), method='ywm')\n",
    "    plt.title(\"PACF\")\n",
    "    \n",
    "    # Show the plots for the current country\n",
    "    plt.tight_layout(rect=[0, 0.03, 1, 0.95])\n",
    "    plt.show()"
   ]
  },
  {
   "cell_type": "code",
   "execution_count": null,
   "metadata": {},
   "outputs": [],
   "source": [
    "for country in aux_ili:\n",
    "    country_data = ili[ili['location'] == country]['value']\n",
    "    \n",
    "    # Create a figure for the plots\n",
    "    plt.figure(figsize=(12, 6))\n",
    "    plt.suptitle(f\"ACF and PACF for {country}\", fontsize=16)\n",
    "    \n",
    "    # Plot ACF\n",
    "    plt.subplot(1, 2, 1)\n",
    "    plot_acf(country_data, lags=104, ax=plt.gca())\n",
    "    plt.title(\"ACF\")\n",
    "    \n",
    "    # Plot PACF\n",
    "    plt.subplot(1, 2, 2)\n",
    "    plot_pacf(country_data, lags=104, ax=plt.gca(), method='ywm')\n",
    "    plt.title(\"PACF\")\n",
    "    \n",
    "    # Show the plots for the current country\n",
    "    plt.tight_layout(rect=[0, 0.03, 1, 0.95])\n",
    "    plt.show()"
   ]
  },
  {
   "cell_type": "code",
   "execution_count": null,
   "metadata": {},
   "outputs": [],
   "source": [
    "for country in country_ili_2:\n",
    "    country_data = ili[ili['location'] == country]['value']\n",
    "    \n",
    "    # Create a figure for the plots\n",
    "    plt.figure(figsize=(12, 6))\n",
    "    plt.suptitle(f\"ACF and PACF for {country}\", fontsize=16)\n",
    "    \n",
    "    # Plot ACF\n",
    "    plt.subplot(1, 2, 1)\n",
    "    plot_acf(country_data, lags=104, ax=plt.gca())\n",
    "    plt.title(\"ACF\")\n",
    "    \n",
    "    # Plot PACF\n",
    "    plt.subplot(1, 2, 2)\n",
    "    plot_pacf(country_data, lags=104, ax=plt.gca(), method='ywm')\n",
    "    plt.title(\"PACF\")\n",
    "    \n",
    "    # Show the plots for the current country\n",
    "    plt.tight_layout(rect=[0, 0.03, 1, 0.95])\n",
    "    plt.show()"
   ]
  }
 ],
 "metadata": {
  "kernelspec": {
   "display_name": "tfm",
   "language": "python",
   "name": "python3"
  },
  "language_info": {
   "codemirror_mode": {
    "name": "ipython",
    "version": 3
   },
   "file_extension": ".py",
   "mimetype": "text/x-python",
   "name": "python",
   "nbconvert_exporter": "python",
   "pygments_lexer": "ipython3",
   "version": "3.11.11"
  }
 },
 "nbformat": 4,
 "nbformat_minor": 2
}
