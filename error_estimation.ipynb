{
 "cells": [
  {
   "cell_type": "code",
   "execution_count": null,
   "id": "f7bc2533",
   "metadata": {},
   "outputs": [],
   "source": [
    "import pandas as pd\n",
    "import numpy as np\n",
    "import pandas as pd\n",
    "import numpy as np\n",
    "import pandas as pd\n",
    "import matplotlib.pylab as plt\n",
    "from sklearn.metrics import root_mean_squared_error,mean_absolute_percentage_error\n",
    "from sklearn.preprocessing import MinMaxScaler"
   ]
  },
  {
   "cell_type": "code",
   "execution_count": null,
   "id": "7d60ab79",
   "metadata": {},
   "outputs": [],
   "source": [
    "ari = pd.read_csv(\"data_ari.csv\",sep=\",\",dtype={'location':str,'year_week':str,\n",
    "                                                'value':np.float32,'relative_humidity_2m':np.float64,\n",
    "                                                'temperature_2m_max':np.float64,'temperature_2m_min':np.float64},\n",
    "                                                parse_dates=['truth_date'])\n",
    "name_ari = ari['location'].unique()\n",
    "mape_ari = pd.DataFrame(columns=['location', 'model', 'prediction_window', 'mape', 'nrmse'])"
   ]
  },
  {
   "cell_type": "code",
   "execution_count": null,
   "id": "f8c77f3d",
   "metadata": {},
   "outputs": [],
   "source": [
    "ili = pd.read_csv(\"data_ili.csv\",sep=\",\",dtype={'location':str,'year_week':str,\n",
    "                                                'value':np.float32,'relative_humidity_2m':np.float64,\n",
    "                                                'temperature_2m_max':np.float64,'temperature_2m_min':np.float64},\n",
    "                                                parse_dates=['truth_date'])\n",
    "ili = ili.drop(columns=['Unnamed: 0']).reset_index(drop=True)\n",
    "name_ili = ili['location'].unique()\n",
    "mape_ili = pd.DataFrame(columns=['location', 'model', 'prediction_window', 'mape', 'nrmse'])"
   ]
  },
  {
   "cell_type": "code",
   "execution_count": null,
   "id": "3dce93fa",
   "metadata": {},
   "outputs": [],
   "source": [
    "summary = ili.groupby(\"location\")[\"value\"].agg(\n",
    "    mean_incidence=\"mean\",\n",
    "    median_incidence=\"median\",\n",
    "    min_incidence=\"min\",\n",
    "    max_incidence=\"max\"\n",
    ").reset_index().sort_values(\"mean_incidence\")\n",
    "\n",
    "print(summary)"
   ]
  },
  {
   "cell_type": "code",
   "execution_count": null,
   "id": "05155b92",
   "metadata": {},
   "outputs": [],
   "source": [
    "summary = ari.groupby(\"location\")[\"value\"].agg(\n",
    "    mean_incidence=\"mean\",\n",
    "    median_incidence=\"median\",\n",
    "    min_incidence=\"min\",\n",
    "    max_incidence=\"max\"\n",
    ").reset_index().sort_values(\"mean_incidence\")\n",
    "\n",
    "print(summary)"
   ]
  },
  {
   "cell_type": "code",
   "execution_count": null,
   "id": "23e545cd",
   "metadata": {},
   "outputs": [],
   "source": [
    "ili.location.unique()"
   ]
  },
  {
   "cell_type": "code",
   "execution_count": null,
   "id": "ef589258",
   "metadata": {},
   "outputs": [],
   "source": [
    "ari.location.unique()"
   ]
  },
  {
   "cell_type": "code",
   "execution_count": null,
   "id": "3fafea71",
   "metadata": {},
   "outputs": [],
   "source": [
    "def eval_metrics(y_true, y_pred,alpha=0.2):\n",
    "    y_true, y_pred = np.array(y_true), np.array(y_pred)\n",
    "    # remove nan or not valid values like infinity\n",
    "    mask = np.isfinite(y_true) & np.isfinite(y_pred)\n",
    "    if mask.sum() == 0:\n",
    "        return np.nan, np.nan\n",
    "    y_clean = y_true[mask]\n",
    "    y_pred_clean = y_pred[mask]\n",
    "    if (y_clean == 0).sum() > 0:\n",
    "        S = np.percentile(np.abs(y_clean),90)\n",
    "    else:\n",
    "        S = 0\n",
    "    epsilon = S * alpha\n",
    "    print(f\"Using epsilon: {epsilon}\")\n",
    "    denom = np.maximum(np.abs(y_clean), float(epsilon))\n",
    "    mae = np.mean(np.abs((y_clean - y_pred_clean) / (denom))) * 100\n",
    "    rmse = root_mean_squared_error(y_clean, y_pred_clean)/(y_clean.max() - y_clean.min())\n",
    "    return mae, rmse"
   ]
  },
  {
   "cell_type": "code",
   "execution_count": null,
   "id": "fa69051d",
   "metadata": {},
   "outputs": [],
   "source": [
    "name_ili"
   ]
  },
  {
   "cell_type": "code",
   "execution_count": null,
   "id": "c62fb970",
   "metadata": {},
   "outputs": [],
   "source": [
    "for i in name_ari:\n",
    "    print(f'the country running is {i}')\n",
    "    combined_df = pd.read_csv(f\"mixed_xgboost_model_{i}_ARI.csv\")\n",
    "    for h in range(4):\n",
    "        shifted = combined_df[\"value\"].shift(-h)\n",
    "        preds = combined_df[f\"prediction_{h+1}_weeks\"]\n",
    "        valid_idx = ~shifted.isna()\n",
    "        y_true = shifted[valid_idx]\n",
    "        y_pred = preds[valid_idx]\n",
    "        mape, nrmse = eval_metrics(y_true, y_pred, alpha=0)\n",
    "        mape_ari = pd.concat([\n",
    "            mape_ari,\n",
    "            pd.DataFrame([[i, 'seasonal_naive', f\"{h+1}_week\", mape, nrmse]],\n",
    "                            columns=['location', 'model', 'prediction_window', 'mape', 'nrmse'])\n",
    "        ], ignore_index=True)"
   ]
  },
  {
   "cell_type": "code",
   "execution_count": null,
   "id": "615033af",
   "metadata": {},
   "outputs": [],
   "source": [
    "mape_ari"
   ]
  },
  {
   "cell_type": "code",
   "execution_count": null,
   "id": "f39dcbfd",
   "metadata": {},
   "outputs": [],
   "source": [
    "mape_ari.to_csv(\"resultados/mape_ari_xgboost.csv\", index=False,sep=\";\", decimal=',')"
   ]
  },
  {
   "cell_type": "code",
   "execution_count": null,
   "id": "aac59d0f",
   "metadata": {},
   "outputs": [],
   "source": [
    "for i in name_ili:\n",
    "    print(f'the country running is {i}')\n",
    "    combined_df = pd.read_csv(f\"mixed_xgboost_model_{i}_ILI.csv\")\n",
    "    for h in range(4):\n",
    "        shifted = combined_df[\"value\"].shift(-h)\n",
    "        preds = combined_df[f\"prediction_{h+1}_weeks\"]\n",
    "        valid_idx = ~shifted.isna()\n",
    "        y_true = shifted[valid_idx]\n",
    "        y_pred = preds[valid_idx]\n",
    "        mape, nrmse = eval_metrics(y_true, y_pred, alpha=0.2)\n",
    "        mape_ili = pd.concat([\n",
    "            mape_ili,\n",
    "            pd.DataFrame([[i, 'naive', f\"{h+1}_week\", mape, nrmse]],\n",
    "                            columns=['location', 'model', 'prediction_window', 'mape', 'nrmse'])\n",
    "        ], ignore_index=True)"
   ]
  },
  {
   "cell_type": "code",
   "execution_count": null,
   "id": "e8f3e758",
   "metadata": {},
   "outputs": [],
   "source": [
    "mape_ili.tail(30)"
   ]
  },
  {
   "cell_type": "code",
   "execution_count": null,
   "id": "a82a0708",
   "metadata": {},
   "outputs": [],
   "source": [
    "mape_ili.to_csv(\"resultados/mape_ili_xgboost.csv\", index=False,sep=\";\", decimal=',')"
   ]
  },
  {
   "cell_type": "code",
   "execution_count": null,
   "id": "a5c740b7",
   "metadata": {},
   "outputs": [],
   "source": [
    "for i in name_ili:\n",
    "    print(f'the country running is {i}')\n",
    "    df = pd.read_csv(f'resultados/sarima_xgboost/mixed_xgboost_model_{i}_ILI.csv')\n",
    "    df.to_csv(f'resultados/sarima_xgboost/mixed_xgboost_model_{i}_ILI.csv', index=False,sep=\";\", decimal=',')\n"
   ]
  },
  {
   "cell_type": "code",
   "execution_count": null,
   "id": "2bb967b6",
   "metadata": {},
   "outputs": [],
   "source": [
    "for i in name_ari:\n",
    "    print(f'the country running is {i}')\n",
    "    be_ari = pd.read_excel('resultados/to_plot/BE.xlsx',sheet_name='Ari')\n",
    "    be = ari[ari['location'] == i]\n",
    "    print(be_ari.dtypes)\n"
   ]
  },
  {
   "cell_type": "code",
   "execution_count": null,
   "id": "3f74a594",
   "metadata": {},
   "outputs": [],
   "source": [
    "import matplotlib.pyplot as plt\n",
    "from pathlib import Path\n",
    "\n",
    "# inside your loop, right after your three lines:\n",
    "for i in name_ari:\n",
    "    print(f'the country running is {i}')\n",
    "    be_ari = pd.read_excel('resultados/to_plot/BE.xlsx', sheet_name='Ari')  # your line\n",
    "    be = ari[ari['location'] == i]                                         # your line\n",
    "\n",
    "    # --- align observed with prediction dates ---\n",
    "    # Use the prediction dates from be_ari to extract the matching observed values from 'be'\n",
    "    pred_dates = be_ari[['truth_date']].drop_duplicates().sort_values('truth_date')\n",
    "    obs_sync = pred_dates.merge(be[['truth_date', 'value']], on='truth_date', how='left')\n",
    "\n",
    "    # --- build the plot ---\n",
    "    Path('figs').mkdir(parents=True, exist_ok=True)\n",
    "    x = pred_dates['truth_date']\n",
    "\n",
    "    plt.figure(figsize=(10, 5))\n",
    "    # Observed (from 'be' as you requested)\n",
    "    plt.plot(x, obs_sync['value'], label='Observed (value)')\n",
    "\n",
    "    # Predictions (from 'be_ari' as you requested)\n",
    "    model_cols = [c for c in be_ari.columns if c not in ('truth_date', 'value')]\n",
    "    for col in model_cols:\n",
    "        plt.plot(x, be_ari[col], label=col)\n",
    "\n",
    "    plt.title(f\"{i} – ARI – Observed vs model forecasts\")\n",
    "    plt.xlabel(\"Date\")\n",
    "    plt.ylabel(\"Incidence\")\n",
    "    plt.legend(loc='best', ncol=2, fontsize=8)\n",
    "    plt.tight_layout()\n",
    "\n",
    "    out_png = f\"figs/{i}_ARI_models.png\"\n",
    "    plt.savefig(out_png, dpi=300)\n",
    "    plt.close()\n",
    "    print(f\"Saved: {out_png}\")\n"
   ]
  },
  {
   "cell_type": "code",
   "execution_count": null,
   "id": "e54205d9",
   "metadata": {},
   "outputs": [],
   "source": [
    "RO = ili[ili['location'] == 'RO']\n",
    "RO[RO['truth_date']>'2023-10-01']"
   ]
  },
  {
   "cell_type": "code",
   "execution_count": null,
   "id": "d86214bc",
   "metadata": {},
   "outputs": [],
   "source": [
    "# inside your loop, right after your three lines:\n",
    "import matplotlib.cm as cm\n",
    "for i in ['BE','LU','RO']:\n",
    "    print(f'the country running is {i}')\n",
    "    be_ari = pd.read_excel(f'resultados/to_plot/{i}.xlsx', sheet_name='Ari')  # your line\n",
    "    # --- build the plot ---\n",
    "    x = be_ari['truth_date']\n",
    "\n",
    "    plt.figure(figsize=(10, 5))\n",
    "    # Observed (from 'be' as you requested)\n",
    "    plt.plot(x,be_ari['value'], label='Observed (value)',color='black')\n",
    "    \n",
    "    # Predictions (from 'be_ari' as you requested)\n",
    "    model_cols = [c for c in be_ari.columns if c not in ('truth_date', 'value')]\n",
    "    colors = cm.get_cmap('tab20', len(model_cols)) \n",
    "    for j,col in enumerate(model_cols):\n",
    "        plt.plot(x, be_ari[col], label=col,color=colors(j))\n",
    "\n",
    "    plt.title(f\"{i} – ARI – Observed vs model forecasts\")\n",
    "    plt.xlabel(\"Date\")\n",
    "    plt.ylabel(\"Incidence\")\n",
    "    plt.legend(loc='best', ncol=2, fontsize=8)\n",
    "    plt.tight_layout()\n",
    "\n",
    "    out_png = f\"figs/{i}_ARI_models.png\"\n",
    "    plt.savefig(out_png, dpi=300)\n",
    "    plt.close()\n",
    "    print(f\"Saved: {out_png}\")\n"
   ]
  },
  {
   "cell_type": "code",
   "execution_count": null,
   "id": "624e8a93",
   "metadata": {},
   "outputs": [],
   "source": [
    "be_ari.columns"
   ]
  },
  {
   "cell_type": "code",
   "execution_count": null,
   "id": "fa11f965",
   "metadata": {},
   "outputs": [],
   "source": [
    "def plot_train_test(train, test, model_name, location,folder):\n",
    "    plt.figure(figsize=(15, 7))\n",
    "\n",
    "    # Plot actual data\n",
    "    plt.plot(train.index, train[\"value\"], color='blue', label='Training Data')\n",
    "    plt.plot(test.index, test[\"value\"], color='orange', label='Actual Test Data')\n",
    "\n",
    "    # Unified forecast column names\n",
    "    forecast_horizons = {\n",
    "    'randomforest':('green'),\n",
    "    'arimax':('red'),\n",
    "    'sarima_randomforest':('purple'),\n",
    "    'sarima_xgboost':('brown'),\n",
    "    'rnn':('magenta'),\n",
    "    'arima':('pink'),\n",
    "    'sarimax':('gray'),\n",
    "    'sarima':('olive'),\n",
    "    'xgboost':('black'),\n",
    "    'naive':('yellow'),\n",
    "    'seasonal_naive':('cyan')\n",
    "    }\n",
    "\n",
    "    for col, (color) in forecast_horizons.items():\n",
    "        if col in test.columns:\n",
    "            # Shift predictions forward by their horizon\n",
    "            plt.plot(test.index, test[col], linestyle='--', color=color, label=f'{model_name} {col}')\n",
    "\n",
    "    plt.legend(loc='upper left')\n",
    "    plt.title(f\"{model_name} Forecasting – {location}\")\n",
    "    plt.xlabel(\"Date\")\n",
    "    plt.ylabel(\"Value\")\n",
    "    plt.grid(True)\n",
    "    plt.tight_layout()\n",
    "    "
   ]
  },
  {
   "cell_type": "code",
   "execution_count": null,
   "id": "42a0252f",
   "metadata": {},
   "outputs": [],
   "source": [
    "plot_train_test(be,be_ari,'Mixed XGBoost','Belgium','figs')"
   ]
  },
  {
   "cell_type": "code",
   "execution_count": null,
   "id": "6931cfa5",
   "metadata": {},
   "outputs": [],
   "source": [
    "import matplotlib.pyplot as plt\n",
    "from pathlib import Path\n",
    "\n",
    "def plot_train_test_simple(be, be_ari, location, folder=\"figs\"):\n",
    "    # Ensure datetime index\n",
    "    be = be.sort_values(\"truth_date\").set_index(\"truth_date\")\n",
    "    be_ari = be_ari.sort_values(\"truth_date\").set_index(\"truth_date\")\n",
    "\n",
    "    plt.figure(figsize=(15, 7))\n",
    "\n",
    "    # Observed: full series (blue) + test observed (orange from be_ari dates)\n",
    "    plt.plot(be.index, be[\"value\"], color='blue', label='Training Data')\n",
    "    if \"value\" in be_ari.columns:\n",
    "        plt.plot(be_ari.index, be_ari[\"value\"], color='orange', label='Actual Test Data')\n",
    "\n",
    "    # Exact Excel column names → colors (simple, no normalization)\n",
    "    forecast_colors = {\n",
    "        'Random Forest':        'green',\n",
    "        'Arimax':               'red',\n",
    "        'Sarima/RandomForest':  'purple',\n",
    "        'Sarima/Xgboost':       'brown',\n",
    "        'RNN':                  'magenta',\n",
    "        'Arima':                'pink',\n",
    "        'Sarimax':              'gray',\n",
    "        'Sarima':               'olive',\n",
    "        'XGboost':              'black',\n",
    "        'Naive':                'yellow',\n",
    "        'Seasonal_Naive':       'cyan',\n",
    "    }\n",
    "\n",
    "    # Plot predictions if present\n",
    "    for col, color in forecast_colors.items():\n",
    "        if col in be_ari.columns:\n",
    "            plt.plot(be_ari.index, be_ari[col], linestyle='--', color=color, label=col)\n",
    "\n",
    "    plt.legend(loc='upper left', ncol=2, fontsize=9)\n",
    "    plt.title(f\"ARI Forecasting – {location}\")\n",
    "    plt.xlabel(\"Date\")\n",
    "    plt.ylabel(\"Value\")\n",
    "    plt.grid(True)\n",
    "    plt.tight_layout()\n",
    "\n",
    "    Path(folder).mkdir(parents=True, exist_ok=True)\n",
    "    out_png = f\"{folder}/{location}_ARI_models.png\"\n",
    "    plt.savefig(out_png, dpi=300)\n",
    "    plt.close()\n",
    "    print(f\"Saved: {out_png}\")\n"
   ]
  },
  {
   "cell_type": "code",
   "execution_count": null,
   "id": "1d6a746a",
   "metadata": {},
   "outputs": [],
   "source": [
    "for i in name_ari:\n",
    "    print(f'the country running is {i}')\n",
    "    be_ari = pd.read_excel(f'resultados/to_plot/{i}.xlsx', sheet_name='Ari')\n",
    "    be = ari[ari['location'] == i].copy()\n",
    "    plot_train_test_simple(be, be_ari, i, folder=\"figs\")\n"
   ]
  },
  {
   "cell_type": "code",
   "execution_count": null,
   "id": "abc5ff75",
   "metadata": {},
   "outputs": [],
   "source": [
    "import joblib\n",
    "import glob\n",
    "\n",
    "all_importances = []\n",
    "\n",
    "# adjust the path pattern to your filenames\n",
    "for file in glob.glob(\"models_rf/rf_model_*_h*.joblib\"):\n",
    "    rf = joblib.load(file)\n",
    "\n",
    "    # extract metadata from filename\n",
    "    parts = file.split(\"_\")\n",
    "    country = parts[2]  # adapt depending on your naming scheme\n",
    "    horizon = parts[3].replace(\"h\", \"\").replace(\".joblib\",\"\")\n",
    "\n",
    "    # collect importances\n",
    "    importances = rf.feature_importances_\n",
    "    df = pd.DataFrame({\n",
    "        \"feature\": rf.feature_names_in_,\n",
    "        \"importance\": importances,\n",
    "        \"country\": country,\n",
    "        \"horizon\": int(horizon)\n",
    "    })\n",
    "    all_importances.append(df)\n",
    "\n",
    "all_importances = pd.concat(all_importances, ignore_index=True)\n"
   ]
  }
 ],
 "metadata": {
  "kernelspec": {
   "display_name": "tfm",
   "language": "python",
   "name": "python3"
  },
  "language_info": {
   "codemirror_mode": {
    "name": "ipython",
    "version": 3
   },
   "file_extension": ".py",
   "mimetype": "text/x-python",
   "name": "python",
   "nbconvert_exporter": "python",
   "pygments_lexer": "ipython3",
   "version": "3.11.11"
  }
 },
 "nbformat": 4,
 "nbformat_minor": 5
}
