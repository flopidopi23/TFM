{
 "cells": [
  {
   "cell_type": "markdown",
   "metadata": {},
   "source": [
    "## Naive and Seasonal Naive models\n",
    "Code use for creation of naive models.\n",
    "Those models predict for a window of 1,2,3 and 4 weeks ahead.\n",
    "The first one use a rolling prediction using 1 week then move and predict. \n",
    "For the 2 weeks prediction use the last week value then moves and use the predict value to do the same and so on for the 3 and 4 week."
   ]
  },
  {
   "cell_type": "code",
   "execution_count": null,
   "metadata": {},
   "outputs": [],
   "source": [
    "import pandas as pd\n",
    "import numpy as np\n",
    "import pandas as pd\n",
    "from datetime import datetime\n",
    "import matplotlib.pylab as plt\n",
    "from matplotlib.pylab import rcParams\n",
    "from statsmodels.tsa.stattools import adfuller\n",
    "#!pip install pmdarima --quiet\n",
    "import pmdarima as pm\n",
    "from statsmodels.graphics.tsaplots import plot_acf, plot_pacf\n",
    "from pmdarima import auto_arima\n",
    "from sklearn.metrics import mean_absolute_error, root_mean_squared_error\n"
   ]
  },
  {
   "cell_type": "code",
   "execution_count": null,
   "metadata": {},
   "outputs": [],
   "source": [
    "ari = pd.read_csv(\"data_ari.csv\",sep=\",\",dtype={'location':str,'year_week':str,\n",
    "                                                'value':np.float32,'relative_humidity_2m':np.float64,\n",
    "                                                'temperature_2m_max':np.float64,'temperature_2m_min':np.float64},\n",
    "                                                parse_dates=['truth_date'])\n",
    "ari = ari.drop(columns=['Unnamed: 0']).reset_index(drop=True)\n"
   ]
  },
  {
   "cell_type": "code",
   "execution_count": null,
   "metadata": {},
   "outputs": [],
   "source": [
    "ili = pd.read_csv(\"data_ili.csv\",sep=\",\",dtype={'location':str,'year_week':str,\n",
    "                                                'value':np.float32,'relative_humidity_2m':np.float64,\n",
    "                                                'temperature_2m_max':np.float64,'temperature_2m_min':np.float64},\n",
    "                                                parse_dates=['truth_date'])\n",
    "ili = ili.drop(columns=['Unnamed: 0']).reset_index(drop=True)\n"
   ]
  },
  {
   "cell_type": "markdown",
   "metadata": {},
   "source": [
    "The metrics use are MAE and RSME "
   ]
  },
  {
   "cell_type": "code",
   "execution_count": null,
   "metadata": {},
   "outputs": [],
   "source": [
    "def eval_metrics(y_true, y_pred):\n",
    "    y_true, y_pred = np.array(y_true), np.array(y_pred)\n",
    "\n",
    "    mask = ~np.isnan(y_true) & ~np.isnan(y_pred)\n",
    "    if mask.sum() == 0:\n",
    "        return np.nan, np.nan\n",
    "\n",
    "    mae = mean_absolute_error(y_true[mask], y_pred[mask])\n",
    "    rmse = root_mean_squared_error(y_true[mask], y_pred[mask])\n",
    "\n",
    "    return mae, rmse"
   ]
  },
  {
   "cell_type": "markdown",
   "metadata": {},
   "source": [
    "Function to separete train,test. Depending on the lengh of the data the date that you should give."
   ]
  },
  {
   "cell_type": "code",
   "execution_count": null,
   "metadata": {},
   "outputs": [],
   "source": [
    "def train_data(df,location,date):\n",
    "    df = df[df['location']==location]\n",
    "    df = df.set_index('truth_date')\n",
    "    train = df[df.index<=date]\n",
    "    test = df[df.index>date]\n",
    "    return train,test"
   ]
  },
  {
   "cell_type": "code",
   "execution_count": null,
   "metadata": {},
   "outputs": [],
   "source": [
    "mape_ari = pd.DataFrame(columns=['location','model','prediction_window','mae','rmse'])\n",
    "mape_ili = pd.DataFrame(columns=['location','model','prediction_window','mae','rmse'])"
   ]
  },
  {
   "cell_type": "code",
   "execution_count": null,
   "metadata": {},
   "outputs": [],
   "source": [
    "def plot_train_test(train, test, model_name, location, aux):\n",
    "    plt.figure(figsize=(15, 7))\n",
    "\n",
    "    # Plot actual data\n",
    "    plt.plot(train.index, train[\"value\"], color='blue', label='Training Data')\n",
    "    plt.plot(test.index, test[\"value\"], color='orange', label='Actual Test Data')\n",
    "\n",
    "    # Unified forecast column names\n",
    "    forecast_horizons = {\n",
    "        \"prediction_1_weeks\": (\"1 Week Ahead\", \"green\", 0),\n",
    "        \"prediction_2_weeks\": (\"2 Weeks Ahead\", \"red\", 1),\n",
    "        \"prediction_3_weeks\": (\"3 Weeks Ahead\", \"purple\", 2),\n",
    "        \"prediction_4_weeks\": (\"4 Weeks Ahead\", \"brown\", 3),\n",
    "    }\n",
    "\n",
    "    for col, (label, color, shift_val) in forecast_horizons.items():\n",
    "        if col in test.columns:\n",
    "            # Shift predictions forward by their horizon\n",
    "            plt.plot(test.index, test[col].shift(shift_val), linestyle='--', color=color, label=f'{model_name} {label}')\n",
    "\n",
    "    plt.legend(loc='upper left')\n",
    "    plt.title(f\"{model_name} Forecasting – {location}\")\n",
    "    plt.xlabel(\"Date\")\n",
    "    plt.ylabel(\"Value\")\n",
    "    plt.grid(True)\n",
    "    plt.tight_layout()\n",
    "\n",
    "    # Save figure\n",
    "    plt.savefig(f\"plots_naive/plot_{location}_{aux}.jpg\", format='jpg', dpi=300)\n",
    "\n"
   ]
  },
  {
   "cell_type": "code",
   "execution_count": null,
   "metadata": {},
   "outputs": [],
   "source": [
    "def naive_models_1_4_week_ahead_naive(train,test,country,mape):\n",
    "    test['prediction_1_weeks'] = np.nan\n",
    "    test[\"prediction_2_weeks\"] = np.nan\n",
    "    test[\"prediction_3_weeks\"] = np.nan\n",
    "    test[\"prediction_4_weeks\"] = np.nan\n",
    "\n",
    "    test.loc[test.index[0], \"prediction_1_weeks\"] = train.iloc[-1][\"value\"]\n",
    "    test.loc[test.index[0], \"prediction_2_weeks\"] = train.iloc[-1][\"value\"]\n",
    "    test.loc[test.index[0], \"prediction_3_weeks\"] = train.iloc[-1][\"value\"]\n",
    "    test.loc[test.index[0], \"prediction_4_weeks\"] = train.iloc[-1][\"value\"]\n",
    "\n",
    "    for i in range(len(test)):\n",
    "        test.iloc[i, test.columns.get_loc(\"prediction_1_weeks\")] = test.iloc[i-1][\"value\"]\n",
    "        test.iloc[i, test.columns.get_loc(\"prediction_2_weeks\")] = test.iloc[i-1][\"value\"]\n",
    "        test.iloc[i, test.columns.get_loc(\"prediction_3_weeks\")] = test.iloc[i-1][\"value\"]\n",
    "        test.iloc[i, test.columns.get_loc(\"prediction_4_weeks\")] = test.iloc[i-1][\"value\"]\n",
    "    \n",
    "    mape_mae_1_week,mape_rsme_1_week = eval_metrics(test[\"value\"], test[\"prediction_1_weeks\"])\n",
    "    test_w2 = test.copy()\n",
    "    test_w2[\"value\"] = test_w2[\"value\"].shift(-1)\n",
    "    test_w2 = test_w2.dropna()\n",
    "    mape_mae_2_week,mape_rsme_2_week = eval_metrics(test_w2[\"value\"], test[\"prediction_2_weeks\"].iloc[:len(test_w2)])\n",
    "    test_w3 = test.copy()\n",
    "    test_w3[\"value\"] = test_w3[\"value\"].shift(-2)\n",
    "    test_w3 = test_w3.dropna()\n",
    "    mape_mae_3_week,mape_rsme_3_week = eval_metrics(test_w3[\"value\"], test[\"prediction_3_weeks\"].iloc[:len(test_w3)])\n",
    "    test_w4 = test.copy()\n",
    "    test_w4[\"value\"] = test_w4[\"value\"].shift(-3)\n",
    "    test_w4 = test_w4.dropna()\n",
    "    mape_mae_4_week,mape_rsme_4_week = eval_metrics(test_w4[\"value\"], test[\"prediction_4_weeks\"].iloc[:len(test_w4)])\n",
    "    mape = pd.concat([\n",
    "        mape,\n",
    "        pd.DataFrame([[country, 'naive','1_week',mape_mae_1_week,mape_rsme_1_week]], columns=['location', 'model','prediction_window', 'mae', 'rmse']),\n",
    "        pd.DataFrame([[country, 'naive','2_week',mape_mae_2_week,mape_rsme_2_week]], columns=['location', 'model','prediction_window', 'mae', 'rmse']),\n",
    "       pd.DataFrame([[country, 'naive','3_week',mape_mae_3_week,mape_rsme_3_week]], columns=['location', 'model','prediction_window', 'mae', 'rmse']),\n",
    "        pd.DataFrame([[country, 'naive','4_week',mape_mae_4_week,mape_rsme_4_week]], columns=['location', 'model','prediction_window', 'mae', 'rmse'])],\n",
    "          ignore_index=True)   \n",
    "    return test,mape"
   ]
  },
  {
   "cell_type": "code",
   "execution_count": null,
   "metadata": {},
   "outputs": [],
   "source": [
    "def seasonal_naive_models_rolling(train, test, country, mape, horizon=4, seasonality=52):\n",
    "    \"\"\"\n",
    "    Seasonal naive forecast: rolling week-by-week prediction.\n",
    "    Metrics calculated by shifting value and slicing predictions like in user's method.\n",
    "    \"\"\"\n",
    "    full = pd.concat([train, test]).copy()\n",
    "    full = full.asfreq('W')\n",
    "\n",
    "    test = test.copy()\n",
    "\n",
    "    test['prediction_1_weeks'] = np.nan\n",
    "    test[\"prediction_2_weeks\"] = np.nan\n",
    "    test[\"prediction_3_weeks\"] = np.nan\n",
    "    test[\"prediction_4_weeks\"] = np.nan\n",
    "\n",
    "    # Rolling predictions\n",
    "    for i in range(len(test)):\n",
    "        current_date = test.index[i]\n",
    "        for h in range(1, horizon + 1):\n",
    "            future_index = i + (h - 1)\n",
    "            if future_index < len(test):\n",
    "                target_date = test.index[future_index]\n",
    "                lagged_date = target_date - pd.Timedelta(weeks=seasonality)\n",
    "                if lagged_date in full.index:\n",
    "                    test.loc[test.index[future_index], f\"prediction_{h}_weeks\"] = full.loc[lagged_date, \"value\"]\n",
    "\n",
    "    # Evaluate metrics following your shifting style\n",
    "\n",
    "    # h = 1\n",
    "    mape_mae_1_week, mape_rsme_1_week = eval_metrics(test[\"value\"], test[\"prediction_1_weeks\"])\n",
    "\n",
    "    # 2-4 weeks\n",
    "    test_w2 = test.copy()\n",
    "    test_w2[\"value\"] = test_w2[\"value\"].shift(-1)\n",
    "    test_w2 = test_w2.dropna()\n",
    "    mape_mae_2_week, mape_rsme_2_week = eval_metrics(\n",
    "        test_w2[\"value\"],\n",
    "        test[\"prediction_2_weeks\"].iloc[:len(test_w2)]\n",
    "    )\n",
    "\n",
    "    test_w3 = test.copy()\n",
    "    test_w3[\"value\"] = test_w3[\"value\"].shift(-2)\n",
    "    test_w3 = test_w3.dropna()\n",
    "    mape_mae_3_week, mape_rsme_3_week = eval_metrics(\n",
    "        test_w3[\"value\"],\n",
    "        test[\"prediction_3_weeks\"].iloc[:len(test_w3)]\n",
    "    )\n",
    "\n",
    "    test_w4 = test.copy()\n",
    "    test_w4[\"value\"] = test_w4[\"value\"].shift(-3)\n",
    "    test_w4 = test_w4.dropna()\n",
    "    mape_mae_4_week, mape_rsme_4_week = eval_metrics(\n",
    "        test_w4[\"value\"],\n",
    "        test[\"prediction_4_weeks\"].iloc[:len(test_w4)]\n",
    "    )\n",
    "\n",
    "    mape = pd.concat([\n",
    "        mape,\n",
    "        pd.DataFrame([[country, 'seasonal_naive', '1_week', mape_mae_1_week, mape_rsme_1_week]], columns=['location', 'model', 'prediction_window', 'mae', 'rmse']),\n",
    "        pd.DataFrame([[country, 'seasonal_naive', '2_week', mape_mae_2_week, mape_rsme_2_week]], columns=['location', 'model', 'prediction_window', 'mae', 'rmse']),\n",
    "        pd.DataFrame([[country, 'seasonal_naive', '3_week', mape_mae_3_week, mape_rsme_3_week]], columns=['location', 'model', 'prediction_window', 'mae', 'rmse']),\n",
    "        pd.DataFrame([[country, 'seasonal_naive', '4_week', mape_mae_4_week, mape_rsme_4_week]], columns=['location', 'model', 'prediction_window', 'mae', 'rmse'])\n",
    "    ], ignore_index=True)\n",
    "\n",
    "    return test, mape\n"
   ]
  },
  {
   "cell_type": "code",
   "execution_count": null,
   "metadata": {},
   "outputs": [],
   "source": [
    "def plot_multi_horizon_forecasts(train, test, forecast_df, location, model_name):\n",
    "    import matplotlib.pyplot as plt\n",
    "\n",
    "    plt.figure(figsize=(15, 7))\n",
    "\n",
    "    # 1. Plot training data\n",
    "    plt.plot(train.index, train[\"value\"], color='blue', label='Training Data')\n",
    "\n",
    "    # 2. Plot actual test values\n",
    "    plt.plot(test.index, test[\"value\"], color='orange', label='Actual Test Data')\n",
    "\n",
    "    # 3. Plot predictions for each horizon\n",
    "    for h in range(1, 5):\n",
    "        pred_col = f\"prediction_{h}_week\"\n",
    "        if pred_col in forecast_df.columns:\n",
    "            pred_dates = forecast_df.index + pd.to_timedelta(h, unit=\"W\")\n",
    "            plt.plot(pred_dates, forecast_df[pred_col], linestyle='--', label=f\"{model_name} {h}-week ahead\")\n",
    "\n",
    "    plt.title(f\"{model_name} Forecasts – {location}\")\n",
    "    plt.xlabel(\"Date\")\n",
    "    plt.ylabel(\"Value\")\n",
    "    plt.legend(loc='upper left')\n",
    "    plt.grid(True)\n",
    "    plt.tight_layout()\n",
    "    plt.savefig(f\"plots_naive/plot_{location}_{model_name}.jpg\", format='jpg', dpi=300)\n"
   ]
  },
  {
   "cell_type": "code",
   "execution_count": null,
   "metadata": {},
   "outputs": [],
   "source": [
    "name_ari = ari[\"location\"].unique()\n",
    "name_ili = ili[\"location\"].unique()"
   ]
  },
  {
   "cell_type": "code",
   "execution_count": null,
   "metadata": {},
   "outputs": [],
   "source": [
    "for i in name_ari:\n",
    "    train_ari,test_ari = train_data(ari,i,'2023-10-13')\n",
    "    seasonal_test_ari,mape_ari = seasonal_naive_models_rolling(train_ari, test_ari, i, mape_ari)\n",
    "    forecast_df,mape_ari = naive_models_1_4_week_ahead_naive(train_ari,test_ari,i,mape_ari)\n",
    "    plot_train_test(train_ari,test_ari,\"naive\",i,'ari_naive_model')\n",
    "    plot_train_test(train_ari,seasonal_test_ari,'seasonal_naive_model',i,'ari_seasonal_naive')\n",
    "    "
   ]
  },
  {
   "cell_type": "code",
   "execution_count": null,
   "metadata": {},
   "outputs": [],
   "source": [
    "for i in name_ili:\n",
    "    train_ili,test_ili = train_data(ili,i,'2023-10-13')\n",
    "    seasonal_test_ili,mape_ili = seasonal_naive_models_rolling(train_ili, test_ili, i, mape_ili)\n",
    "    forecast_df_ili,mape_ili = naive_models_1_4_week_ahead_naive(train_ari,test_ari,i,mape_ili)\n",
    "    plot_train_test(train_ili,forecast_df_ili,\"naive\",i,'ili_naive_model')\n",
    "    plot_train_test(train_ili,seasonal_test_ili,'seasonal_naive_model',i,'ili_seasonal_naive')\n",
    "    "
   ]
  },
  {
   "cell_type": "code",
   "execution_count": null,
   "metadata": {},
   "outputs": [],
   "source": [
    "mape_ari.to_csv(\"mape_ari.csv\",index=False)\n",
    "mape_ili.to_csv(\"mape_ili.csv\",index=False)"
   ]
  }
 ],
 "metadata": {
  "kernelspec": {
   "display_name": "tfm",
   "language": "python",
   "name": "python3"
  },
  "language_info": {
   "codemirror_mode": {
    "name": "ipython",
    "version": 3
   },
   "file_extension": ".py",
   "mimetype": "text/x-python",
   "name": "python",
   "nbconvert_exporter": "python",
   "pygments_lexer": "ipython3",
   "version": "3.11.11"
  }
 },
 "nbformat": 4,
 "nbformat_minor": 2
}
