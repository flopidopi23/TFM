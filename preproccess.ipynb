{
 "cells": [
  {
   "cell_type": "code",
   "execution_count": 1,
   "metadata": {},
   "outputs": [],
   "source": [
    "import pandas as pd\n",
    "import numpy as np"
   ]
  },
  {
   "cell_type": "code",
   "execution_count": 2,
   "metadata": {},
   "outputs": [
    {
     "name": "stderr",
     "output_type": "stream",
     "text": [
      "C:\\Users\\flore\\AppData\\Local\\Temp\\ipykernel_20928\\2741939497.py:2: DtypeWarning: Columns (0,2,5,6) have mixed types. Specify dtype option on import or set low_memory=False.\n",
      "  temp_ari_hum = pd.read_csv(\"open-meteo-50.86N4.33E26m_hum.csv\")\n",
      "C:\\Users\\flore\\AppData\\Local\\Temp\\ipykernel_20928\\2741939497.py:4: DtypeWarning: Columns (0,2,5,6) have mixed types. Specify dtype option on import or set low_memory=False.\n",
      "  temp_ill_hum = pd.read_csv(\"open-meteo-48.19N16.38E179m_hum.csv\")\n"
     ]
    }
   ],
   "source": [
    "temp_ari = pd.read_csv(\"open-meteo-50.86N4.33E26m.csv\")\n",
    "temp_ari_hum = pd.read_csv(\"open-meteo-50.86N4.33E26m_hum.csv\")\n",
    "temp_ill = pd.read_csv(\"open-meteo-48.19N16.38E179m_ili.csv\")\n",
    "temp_ill_hum = pd.read_csv(\"open-meteo-48.19N16.38E179m_hum.csv\")                           "
   ]
  },
  {
   "cell_type": "code",
   "execution_count": 17,
   "metadata": {},
   "outputs": [],
   "source": [
    "def function_get_data(df,n_countries,n_columns):\n",
    "    data_description = df.iloc[0:n_countries+1,]\n",
    "    aux_column_names = list(df.iloc[n_countries+1,0:n_columns+1])\n",
    "    temp_data = df.iloc[n_countries+2:,0:n_columns+1]\n",
    "    temp_data.columns = aux_column_names\n",
    "    return data_description,temp_data\n",
    "\n",
    "description_ari,data_ari = function_get_data(temp_ari,12,3)\n",
    "description_ari_hum,data_ari_hum = function_get_data(temp_ari_hum,12,2)\n",
    "description_ill,data_ill = function_get_data(temp_ill,18,3)\n",
    "description_ill_hum,data_ill_hum = function_get_data(temp_ill_hum,18,2)"
   ]
  },
  {
   "cell_type": "code",
   "execution_count": 35,
   "metadata": {},
   "outputs": [],
   "source": [
    "data_ari['DateTime'] = pd.to_datetime(data_ari['time'])\n",
    "data_ari['temperature_2m_max (°C)'] = pd.to_numeric(data_ari['temperature_2m_max (°C)'])\n",
    "data_ari['temperature_2m_min (°C)'] = pd.to_numeric(data_ari['temperature_2m_min (°C)'])\n",
    "data_ari_hum['DateTime'] = pd.to_datetime(data_ari_hum['time'])\n",
    "data_ari_hum['relative_humidity_2m (%)'] = pd.to_numeric(data_ari_hum['relative_humidity_2m (%)'])\n",
    "data_ill['DateTime'] = pd.to_datetime(data_ill['time'])\n",
    "data_ill['temperature_2m_max (°C)'] = pd.to_numeric(data_ill['temperature_2m_max (°C)'])\n",
    "data_ill['temperature_2m_min (°C)'] = pd.to_numeric(data_ari_hum['relative_humidity_2m (%)'])\n",
    "data_ill_hum['DateTime'] = pd.to_datetime(data_ill_hum['time'])\n",
    "data_ill_hum['relative_humidity_2m (%)'] = pd.to_numeric(data_ill_hum['relative_humidity_2m (%)'])\n"
   ]
  },
  {
   "cell_type": "code",
   "execution_count": 40,
   "metadata": {},
   "outputs": [],
   "source": [
    "data_ill_hum['Date'] = data_ill_hum['DateTime'].dt.strftime('%Y-%m-%d')\n",
    "data_ari_hum['Date'] = data_ari_hum['DateTime'].dt.strftime('%Y-%m-%d')"
   ]
  },
  {
   "cell_type": "code",
   "execution_count": null,
   "metadata": {},
   "outputs": [
    {
     "data": {
      "text/html": [
       "<div>\n",
       "<style scoped>\n",
       "    .dataframe tbody tr th:only-of-type {\n",
       "        vertical-align: middle;\n",
       "    }\n",
       "\n",
       "    .dataframe tbody tr th {\n",
       "        vertical-align: top;\n",
       "    }\n",
       "\n",
       "    .dataframe thead th {\n",
       "        text-align: right;\n",
       "    }\n",
       "</style>\n",
       "<table border=\"1\" class=\"dataframe\">\n",
       "  <thead>\n",
       "    <tr style=\"text-align: right;\">\n",
       "      <th></th>\n",
       "      <th>location_id</th>\n",
       "      <th>Date</th>\n",
       "      <th>relative_humidity_2m (%)</th>\n",
       "    </tr>\n",
       "  </thead>\n",
       "  <tbody>\n",
       "    <tr>\n",
       "      <th>0</th>\n",
       "      <td>1</td>\n",
       "      <td>2019-08-25</td>\n",
       "      <td>49.166667</td>\n",
       "    </tr>\n",
       "    <tr>\n",
       "      <th>1</th>\n",
       "      <td>1</td>\n",
       "      <td>2019-08-26</td>\n",
       "      <td>51.583333</td>\n",
       "    </tr>\n",
       "    <tr>\n",
       "      <th>2</th>\n",
       "      <td>1</td>\n",
       "      <td>2019-08-27</td>\n",
       "      <td>46.583333</td>\n",
       "    </tr>\n",
       "    <tr>\n",
       "      <th>3</th>\n",
       "      <td>1</td>\n",
       "      <td>2019-08-28</td>\n",
       "      <td>45.875000</td>\n",
       "    </tr>\n",
       "    <tr>\n",
       "      <th>4</th>\n",
       "      <td>1</td>\n",
       "      <td>2019-08-29</td>\n",
       "      <td>42.375000</td>\n",
       "    </tr>\n",
       "    <tr>\n",
       "      <th>...</th>\n",
       "      <td>...</td>\n",
       "      <td>...</td>\n",
       "      <td>...</td>\n",
       "    </tr>\n",
       "    <tr>\n",
       "      <th>39946</th>\n",
       "      <td>1</td>\n",
       "      <td>2019-08-21</td>\n",
       "      <td>48.875000</td>\n",
       "    </tr>\n",
       "    <tr>\n",
       "      <th>39947</th>\n",
       "      <td>1</td>\n",
       "      <td>2019-08-22</td>\n",
       "      <td>48.958333</td>\n",
       "    </tr>\n",
       "    <tr>\n",
       "      <th>39948</th>\n",
       "      <td>1</td>\n",
       "      <td>2019-08-23</td>\n",
       "      <td>49.333333</td>\n",
       "    </tr>\n",
       "    <tr>\n",
       "      <th>39949</th>\n",
       "      <td>1</td>\n",
       "      <td>2019-08-24</td>\n",
       "      <td>54.416667</td>\n",
       "    </tr>\n",
       "    <tr>\n",
       "      <th>39950</th>\n",
       "      <td>1</td>\n",
       "      <td>2019-08-25</td>\n",
       "      <td>51.722222</td>\n",
       "    </tr>\n",
       "  </tbody>\n",
       "</table>\n",
       "<p>39951 rows × 3 columns</p>\n",
       "</div>"
      ],
      "text/plain": [
       "      location_id        Date  relative_humidity_2m (%)\n",
       "0               1  2019-08-25                 49.166667\n",
       "1               1  2019-08-26                 51.583333\n",
       "2               1  2019-08-27                 46.583333\n",
       "3               1  2019-08-28                 45.875000\n",
       "4               1  2019-08-29                 42.375000\n",
       "...           ...         ...                       ...\n",
       "39946           1  2019-08-21                 48.875000\n",
       "39947           1  2019-08-22                 48.958333\n",
       "39948           1  2019-08-23                 49.333333\n",
       "39949           1  2019-08-24                 54.416667\n",
       "39950           1  2019-08-25                 51.722222\n",
       "\n",
       "[39951 rows x 3 columns]"
      ]
     },
     "execution_count": 47,
     "metadata": {},
     "output_type": "execute_result"
    }
   ],
   "source": [
    "data_ill_hum_by_day = data_ill_hum.groupby(['location_id', 'Date'])['relative_humidity_2m (%)'].mean().reset_index()\n",
    "data_ari_hum_by_day = data_ari_hum.groupby(['location_id','Date'])['relative_humidity_2m (%)'].mean().reset_index()\n"
   ]
  },
  {
   "cell_type": "code",
   "execution_count": 57,
   "metadata": {},
   "outputs": [
    {
     "name": "stdout",
     "output_type": "stream",
     "text": [
      "      location_id        Date  relative_humidity_2m (%)\n",
      "1874            2  2014-09-22                 73.333333\n",
      "5541            3  2014-09-22                 73.958333\n",
      "9208            4  2014-09-22                 93.041667\n",
      "12869           5  2014-09-22                 72.958333\n",
      "16536           6  2014-09-22                 63.750000\n",
      "      location_id        Date  relative_humidity_2m (%)\n",
      "69119           1  2019-08-16                 72.625000\n",
      "69120           1  2019-08-17                 82.625000\n",
      "69121           1  2019-08-18                 80.083333\n",
      "69122           1  2019-08-19                 69.958333\n",
      "69123           1  2019-08-20                 82.916667\n",
      "3667\n"
     ]
    }
   ],
   "source": [
    "print(data_ill_hum_by_day.sort_values(by=['Date','location_id']).head())\n",
    "print(data_ill_hum_by_day.tail())\n",
    "print(data_ill_hum_by_day['Date'].nunique())"
   ]
  },
  {
   "cell_type": "code",
   "execution_count": 51,
   "metadata": {},
   "outputs": [
    {
     "name": "stdout",
     "output_type": "stream",
     "text": [
      "      location_id        Date  relative_humidity_2m (%)\n",
      "39946           1  2019-08-21                 48.875000\n",
      "39947           1  2019-08-22                 48.958333\n",
      "39948           1  2019-08-23                 49.333333\n",
      "39949           1  2019-08-24                 54.416667\n",
      "39950           1  2019-08-25                 51.722222\n",
      "      location_id        time  temperature_2m_max (°C)  \\\n",
      "39959          12  2024-09-26                     20.8   \n",
      "39960          12  2024-09-27                     22.1   \n",
      "39961          12  2024-09-28                     16.7   \n",
      "39962          12  2024-09-29                     15.7   \n",
      "39963          12  2024-09-30                     15.7   \n",
      "\n",
      "       temperature_2m_min (°C)   DateTime  \n",
      "39959                     13.6 2024-09-26  \n",
      "39960                     15.9 2024-09-27  \n",
      "39961                     10.9 2024-09-28  \n",
      "39962                      6.7 2024-09-29  \n",
      "39963                      4.7 2024-09-30  \n"
     ]
    }
   ],
   "source": [
    "print(data_ari_hum_by_day.tail())\n",
    "print(data_ari.tail())"
   ]
  }
 ],
 "metadata": {
  "kernelspec": {
   "display_name": "pyomo_env",
   "language": "python",
   "name": "python3"
  },
  "language_info": {
   "codemirror_mode": {
    "name": "ipython",
    "version": 3
   },
   "file_extension": ".py",
   "mimetype": "text/x-python",
   "name": "python",
   "nbconvert_exporter": "python",
   "pygments_lexer": "ipython3",
   "version": "3.11.10"
  }
 },
 "nbformat": 4,
 "nbformat_minor": 2
}
