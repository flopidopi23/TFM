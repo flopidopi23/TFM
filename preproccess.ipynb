{
 "cells": [
  {
   "cell_type": "code",
   "execution_count": 85,
   "metadata": {},
   "outputs": [],
   "source": [
    "import pandas as pd\n",
    "import numpy as np\n",
    "import openmeteo_requests\n",
    "import requests_cache\n",
    "import pandas as pd\n",
    "from retry_requests import retry\n",
    "from datetime import datetime\n",
    "from statsmodels.graphics.tsaplots import plot_acf, plot_pacf\n"
   ]
  },
  {
   "cell_type": "code",
   "execution_count": null,
   "metadata": {},
   "outputs": [],
   "source": [
    "ari_incidence = pd.read_csv(\"latest-ARI_incidence.csv\",sep=',')\n",
    "ili_incidence = pd.read_csv(\"latest-ILI_incidence.csv\",sep=',')"
   ]
  },
  {
   "cell_type": "code",
   "execution_count": null,
   "metadata": {},
   "outputs": [],
   "source": [
    "ari_incidence.head()"
   ]
  },
  {
   "cell_type": "code",
   "execution_count": 88,
   "metadata": {},
   "outputs": [],
   "source": [
    "# Setup the Open-Meteo API client with cache and retry on error\n",
    "cache_session = requests_cache.CachedSession('.cache', expire_after = 3600)\n",
    "retry_session = retry(cache_session, retries = 5, backoff_factor = 0.2)\n",
    "openmeteo = openmeteo_requests.Client(session = retry_session)"
   ]
  },
  {
   "cell_type": "code",
   "execution_count": 89,
   "metadata": {},
   "outputs": [],
   "source": [
    "url = \"https://archive-api.open-meteo.com/v1/archive\""
   ]
  },
  {
   "cell_type": "code",
   "execution_count": 90,
   "metadata": {},
   "outputs": [],
   "source": [
    "#capitals ARI\n",
    "params_ari = {\n",
    "    \"latitude\": [50.8503, 42.6977, 50.0755, 52.52, 59.437, 40.4168, 48.8566, 47.4979, 54.6872, 49.8153, 56.9496, 44.4268, 46.0569],\n",
    "    \"longitude\": [4.3517, 23.3219, 14.4378, 13.405, 24.7536, -3.7038, 2.3522, 19.0402, 25.2797, 6.1296, 24.1052, 26.1025, 14.5058],\n",
    "    \"hourly\": \"relative_humidity_2m\",\n",
    "    \"timezone\": \"auto\",\n",
    "    \"start_date\": \"2014-10-05\",\n",
    "    \"end_date\": \"2024-10-13\"\n",
    "}\n",
    "country_names_ari = [\n",
    "    \"BE\", \"BG\", \"CZ\", \"DE\", \"EE\",\n",
    "    \"ES\", \"FR\", \"HU\", \"LT\", \"LU\",\n",
    "    \"LV\", \"RO\", \"SI\"\n",
    "]\n",
    "\n"
   ]
  },
  {
   "cell_type": "code",
   "execution_count": null,
   "metadata": {},
   "outputs": [],
   "source": [
    "ari_incidence = ari_incidence[ari_incidence['location'].isin(country_names_ari)]\n",
    "ari_incidence.groupby('location').count()"
   ]
  },
  {
   "cell_type": "code",
   "execution_count": null,
   "metadata": {},
   "outputs": [],
   "source": [
    "\n",
    "responses = openmeteo.weather_api(url, params=params_ari) \n",
    "all_data_ari = []\n",
    "\n",
    "# Loop through all responses\n",
    "for country, response in zip(country_names_ari, responses):\n",
    "    # Check if the response is valid\n",
    "    if response is None:\n",
    "        print(f\"No data available for {country}.\")\n",
    "        continue\n",
    "\n",
    "    # Process the hourly data\n",
    "    hourly = response.Hourly()\n",
    "    hourly_relative_humidity_2m = hourly.Variables(0).ValuesAsNumpy()\n",
    "\n",
    "    # Create a DataFrame for the current location\n",
    "    hourly_data = {\n",
    "        \"date\": pd.date_range(\n",
    "            start=pd.to_datetime(hourly.Time(), unit=\"s\", utc=True),\n",
    "            end=pd.to_datetime(hourly.TimeEnd(), unit=\"s\", utc=True),\n",
    "            freq=pd.Timedelta(seconds=hourly.Interval()),\n",
    "            inclusive=\"left\"\n",
    "        ),\n",
    "        \"relative_humidity_2m\": hourly_relative_humidity_2m,\n",
    "        \"country\": [country] * len(hourly_relative_humidity_2m)  # Add country column\n",
    "    }\n",
    "\n",
    "    all_data_ari.append(pd.DataFrame(data=hourly_data))\n",
    "\n",
    "data_ari_humidity = pd.concat(all_data_ari, ignore_index=True)\n",
    "\n",
    "\n",
    "# Optionally save to CSV\n",
    "data_ari_humidity.to_csv(\"data_humidity_ari .csv\", index=False)\n"
   ]
  },
  {
   "cell_type": "code",
   "execution_count": null,
   "metadata": {},
   "outputs": [],
   "source": [
    "data_ari_humidity.groupby('country').count()"
   ]
  },
  {
   "cell_type": "code",
   "execution_count": 10,
   "metadata": {},
   "outputs": [],
   "source": [
    "params_ari_temp = {\n",
    " \t\"latitude\": [50.8503, 42.6977, 50.0755, 52.52, 59.437, 40.4168, 48.8566, 47.4979, 54.6872, 49.8153, 56.9496, 44.4268, 46.0569],\n",
    "    \"longitude\": [4.3517, 23.3219, 14.4378, 13.405, 24.7536, -3.7038, 2.3522, 19.0402, 25.2797, 6.1296, 24.1052, 26.1025, 14.5058],\n",
    "\t\"daily\": [\"temperature_2m_max\", \"temperature_2m_min\"],\n",
    "\t\"timezone\": \"auto\",\n",
    "\t\"start_date\": \"2014-10-05\",\n",
    "\t\"end_date\": \"2024-10-13\"\n",
    "}"
   ]
  },
  {
   "cell_type": "code",
   "execution_count": 11,
   "metadata": {},
   "outputs": [],
   "source": [
    "\n",
    "responses = openmeteo.weather_api(url, params=params_ari_temp) \n",
    "all_data_temp_ari = []\n",
    "\n",
    "# Loop through all responses\n",
    "for country, response in zip(country_names_ari, responses):\n",
    "    # Check if the response is valid\n",
    "    if response is None:\n",
    "        print(f\"No data available for {country}.\")\n",
    "        continue\n",
    "\n",
    "    # Process the daily data\n",
    "    daily = response.Daily()\n",
    "    daily_temperature_2m_max = daily.Variables(0).ValuesAsNumpy()\n",
    "    daily_temperature_2m_min = daily.Variables(1).ValuesAsNumpy()\n",
    "\n",
    "    # Create a DataFrame for the current location\n",
    "    daily_data = {\n",
    "        \"date\": pd.date_range(\n",
    "            start=pd.to_datetime(daily.Time(), unit=\"s\", utc=True),\n",
    "            end=pd.to_datetime(daily.TimeEnd(), unit=\"s\", utc=True),\n",
    "            freq=pd.Timedelta(seconds=daily.Interval()),\n",
    "            inclusive=\"left\"\n",
    "        ),\n",
    "        \"temperature_2m_max\": daily_temperature_2m_max,\n",
    "        \"temperature_2m_min\": daily_temperature_2m_min,\n",
    "        \"country\": [country] * len(daily_temperature_2m_max)  # Add country column\n",
    "    }\n",
    "\n",
    "    # Convert to DataFrame and append to the list\n",
    "    all_data_temp_ari.append(pd.DataFrame(data=daily_data))\n",
    "\n",
    "data_temp_ari = pd.concat(all_data_temp_ari, ignore_index=True)\n",
    "\n",
    "data_temp_ari.to_csv(\"data_temp_ari.csv\", index=False)\n"
   ]
  },
  {
   "cell_type": "code",
   "execution_count": null,
   "metadata": {},
   "outputs": [],
   "source": [
    "data_temp_ari.head()"
   ]
  },
  {
   "cell_type": "code",
   "execution_count": 13,
   "metadata": {},
   "outputs": [],
   "source": [
    "#params for ili humidity\n",
    "params_ili = {\n",
    "    \"latitude\": [\n",
    "        47.5162, 50.8503, 50.0755, 55.6761, 59.437,\n",
    "        48.8566, 37.9838, 45.815, 47.4979, 53.3498,\n",
    "        54.6872, 49.8153, 56.9496, 35.8997, 52.3676,\n",
    "        59.9139, 52.2297, 44.4268, 46.0569\n",
    "    ],\n",
    "    \"longitude\": [\n",
    "        14.5501, 4.3517, 14.4378, 12.5683, 24.7536,\n",
    "        2.3522, 23.7275, 15.9819, 19.0402, -6.2603,\n",
    "        25.2797, 6.1296, 24.1052, 14.5146, 4.9041,\n",
    "        10.7522, 21.0122, 26.1025, 14.5058\n",
    "    ],\n",
    "    \"hourly\": \"relative_humidity_2m\",\n",
    "    \"timezone\": \"auto\",\n",
    "    \"start_date\": \"2014-10-05\",\n",
    "    \"end_date\": \"2024-10-13\"\n",
    "}\n",
    "country_names_ili = [\n",
    "    \"AT\",\"BE\",\"CZ\",\"DK\",\n",
    "    \"EE\",\"FR\",\"GR\",\"HR\",\n",
    "    \"HU\",\"IE\",\"LT\",\"LU\",\n",
    "    \"LV\",\"MT\",\"NL\",\"NO\",\n",
    "    \"PL\",\"RO\",\"SI\"\n",
    "]\n"
   ]
  },
  {
   "cell_type": "code",
   "execution_count": null,
   "metadata": {},
   "outputs": [],
   "source": [
    "ili_incidence = ili_incidence[ili_incidence['location'].isin(country_names_ili)]\n",
    "ili_incidence.groupby('location').count()"
   ]
  },
  {
   "cell_type": "code",
   "execution_count": 15,
   "metadata": {},
   "outputs": [],
   "source": [
    "\n",
    "responses = openmeteo.weather_api(url, params=params_ili) \n",
    "all_data_ili = []\n",
    "\n",
    "for country, response in zip(country_names_ili, responses):\n",
    "    # Check if the response is valid\n",
    "    if response is None:\n",
    "        print(f\"No data available for {country}.\")\n",
    "        continue\n",
    "\n",
    "    # Process the hourly data\n",
    "    hourly = response.Hourly()\n",
    "    hourly_relative_humidity_2m = hourly.Variables(0).ValuesAsNumpy()\n",
    "\n",
    "    # Create a DataFrame for the current location\n",
    "    hourly_data = {\n",
    "        \"date\": pd.date_range(\n",
    "            start=pd.to_datetime(hourly.Time(), unit=\"s\", utc=True),\n",
    "            end=pd.to_datetime(hourly.TimeEnd(), unit=\"s\", utc=True),\n",
    "            freq=pd.Timedelta(seconds=hourly.Interval()),\n",
    "            inclusive=\"left\"\n",
    "        ),\n",
    "        \"relative_humidity_2m\": hourly_relative_humidity_2m,\n",
    "        \"country\": [country] * len(hourly_relative_humidity_2m)  # Add country column\n",
    "    }\n",
    "\n",
    "    # Convert to DataFrame and append to the list\n",
    "    all_data_ili.append(pd.DataFrame(data=hourly_data))\n",
    "\n",
    "data_ili_humidity = pd.concat(all_data_ili, ignore_index=True)\n",
    "\n",
    "data_ili_humidity.to_csv(\"data_humidity_ili .csv\", index=False)\n"
   ]
  },
  {
   "cell_type": "code",
   "execution_count": null,
   "metadata": {},
   "outputs": [],
   "source": [
    "data_ili_humidity.head()"
   ]
  },
  {
   "cell_type": "code",
   "execution_count": 17,
   "metadata": {},
   "outputs": [],
   "source": [
    "#params for temp ili\n",
    "params_ili_temp = {\n",
    "    \"latitude\": [\n",
    "        47.5162, 50.8503, 50.0755, 55.6761, 59.437,\n",
    "        48.8566, 37.9838, 45.815, 47.4979, 53.3498,\n",
    "        54.6872, 49.8153, 56.9496, 35.8997, 52.3676,\n",
    "        59.9139, 52.2297, 44.4268, 46.0569\n",
    "    ],\n",
    "    \"longitude\": [\n",
    "        14.5501, 4.3517, 14.4378, 12.5683, 24.7536,\n",
    "        2.3522, 23.7275, 15.9819, 19.0402, -6.2603,\n",
    "        25.2797, 6.1296, 24.1052, 14.5146, 4.9041,\n",
    "        10.7522, 21.0122, 26.1025, 14.5058\n",
    "    ],\n",
    "\t\"daily\": [\"temperature_2m_max\", \"temperature_2m_min\"],\n",
    "\t\"timezone\": \"auto\",\n",
    "\t\"start_date\": \"2014-10-05\",\n",
    "\t\"end_date\": \"2024-10-13\"\n",
    "}"
   ]
  },
  {
   "cell_type": "code",
   "execution_count": 18,
   "metadata": {},
   "outputs": [],
   "source": [
    "\n",
    "responses = openmeteo.weather_api(url, params=params_ili_temp)  \n",
    "all_data_temp_ili = []\n",
    "\n",
    "for country, response in zip(country_names_ili, responses):\n",
    "    # Check if the response is valid\n",
    "    if response is None:\n",
    "        print(f\"No data available for {country}.\")\n",
    "        continue\n",
    "\n",
    "    # Process the daily data\n",
    "    daily = response.Daily()\n",
    "    daily_temperature_2m_max = daily.Variables(0).ValuesAsNumpy()\n",
    "    daily_temperature_2m_min = daily.Variables(1).ValuesAsNumpy()\n",
    "\n",
    "    # Create a DataFrame for the current location\n",
    "    daily_data = {\n",
    "        \"date\": pd.date_range(\n",
    "            start=pd.to_datetime(daily.Time(), unit=\"s\", utc=True),\n",
    "            end=pd.to_datetime(daily.TimeEnd(), unit=\"s\", utc=True),\n",
    "            freq=pd.Timedelta(seconds=daily.Interval()),\n",
    "            inclusive=\"left\"\n",
    "        ),\n",
    "        \"temperature_2m_max\": daily_temperature_2m_max,\n",
    "        \"temperature_2m_min\": daily_temperature_2m_min,\n",
    "        \"country\": [country] * len(daily_temperature_2m_max)  # Add country column\n",
    "    }\n",
    "\n",
    "    # Convert to DataFrame and append to the list\n",
    "    all_data_temp_ili.append(pd.DataFrame(data=daily_data))\n",
    "\n",
    "# Combine all DataFrames into one\n",
    "data_temp_ili = pd.concat(all_data_temp_ili, ignore_index=True)\n",
    "\n",
    "# Optionally save to CSV\n",
    "data_temp_ili.to_csv(\"data_temp_ili.csv\", index=False)\n"
   ]
  },
  {
   "cell_type": "code",
   "execution_count": null,
   "metadata": {},
   "outputs": [],
   "source": [
    "data_temp_ili.nunique()"
   ]
  },
  {
   "cell_type": "code",
   "execution_count": null,
   "metadata": {},
   "outputs": [],
   "source": [
    "data_ari_humidity.dtypes"
   ]
  },
  {
   "cell_type": "code",
   "execution_count": 21,
   "metadata": {},
   "outputs": [],
   "source": [
    "data_ari_humidity['Fecha'] = data_ari_humidity['date'].dt.strftime('%Y-%m-%d')\n",
    "data_ili_humidity['Fecha'] = data_ili_humidity['date'].dt.strftime('%Y-%m-%d')\n",
    "data_temp_ari['Fecha'] = data_temp_ari['date'].dt.strftime('%Y-%m-%d')\n",
    "data_temp_ili['Fecha'] = data_temp_ili['date'].dt.strftime('%Y-%m-%d')"
   ]
  },
  {
   "cell_type": "code",
   "execution_count": null,
   "metadata": {},
   "outputs": [],
   "source": [
    "data_ari_humidity.head()"
   ]
  },
  {
   "cell_type": "code",
   "execution_count": null,
   "metadata": {},
   "outputs": [],
   "source": [
    "data_ari_humidity.columns"
   ]
  },
  {
   "cell_type": "code",
   "execution_count": 24,
   "metadata": {},
   "outputs": [],
   "source": [
    "#mean by day for humidity\n",
    "data_ili_hum_by_day = data_ili_humidity[['relative_humidity_2m', 'country', 'Fecha']].groupby(['country', 'Fecha'])['relative_humidity_2m'].mean().reset_index()\n",
    "data_ari_hum_by_day = data_ari_humidity[['relative_humidity_2m', 'country', 'Fecha']].groupby(['country','Fecha'])['relative_humidity_2m'].mean().reset_index()\n"
   ]
  },
  {
   "cell_type": "code",
   "execution_count": 25,
   "metadata": {},
   "outputs": [],
   "source": [
    "data_ari_hum_by_day['Fecha'] = pd.to_datetime(data_ari_hum_by_day['Fecha'])\n",
    "data_ili_hum_by_day['Fecha'] = pd.to_datetime(data_ili_hum_by_day['Fecha'])"
   ]
  },
  {
   "cell_type": "code",
   "execution_count": null,
   "metadata": {},
   "outputs": [],
   "source": [
    "ari_incidence.head()"
   ]
  },
  {
   "cell_type": "code",
   "execution_count": null,
   "metadata": {},
   "outputs": [],
   "source": [
    "data_ari_hum_by_day.dtypes"
   ]
  },
  {
   "cell_type": "code",
   "execution_count": null,
   "metadata": {},
   "outputs": [],
   "source": [
    "data_temp_ili.dtypes"
   ]
  },
  {
   "cell_type": "code",
   "execution_count": 29,
   "metadata": {},
   "outputs": [],
   "source": [
    "#add variable Week of years\n",
    "data_ari_hum_by_day['week_of_year'] = data_ari_hum_by_day['Fecha'].dt.isocalendar().week.astype('str').str.zfill(2)\n",
    "\n",
    "data_ari_hum_by_day['year'] = data_ari_hum_by_day['Fecha'].dt.strftime('%Y')\n",
    "data_ari_hum_by_day['year_week'] = data_ari_hum_by_day['year'] + '-W'+data_ari_hum_by_day['week_of_year']\n",
    "\n",
    "data_ili_hum_by_day['week_of_year'] = data_ili_hum_by_day['Fecha'].dt.isocalendar().week.astype('str').str.zfill(2)\n",
    "data_ili_hum_by_day['year'] = data_ili_hum_by_day['Fecha'].dt.strftime('%Y')\n",
    "data_ili_hum_by_day['year_week'] = data_ili_hum_by_day['year'] + '-W'+data_ili_hum_by_day['week_of_year']\n",
    "\n",
    "data_temp_ari['week_of_year'] = pd.to_datetime(data_temp_ari['Fecha']).dt.isocalendar().week.astype('str').str.zfill(2)\n",
    "data_temp_ari['year'] = pd.to_datetime(data_temp_ari['Fecha']).dt.strftime('%Y')\n",
    "data_temp_ari['year_week'] = data_temp_ari['year'] + '-W'+data_temp_ari['week_of_year']\n",
    "\n",
    "data_temp_ili['week_of_year'] = pd.to_datetime(data_temp_ili['Fecha']).dt.isocalendar().week.astype('str').str.zfill(2)\n",
    "data_temp_ili['year'] = pd.to_datetime(data_temp_ili['Fecha']).dt.strftime('%Y')\n",
    "data_temp_ili['year_week'] = data_temp_ili['year'] + '-W'+data_temp_ili['week_of_year']\n"
   ]
  },
  {
   "cell_type": "code",
   "execution_count": null,
   "metadata": {},
   "outputs": [],
   "source": [
    "data_ili_hum_by_day.head()"
   ]
  },
  {
   "cell_type": "code",
   "execution_count": 31,
   "metadata": {},
   "outputs": [],
   "source": [
    "data_temp_ari.to_csv(\"dat.csv\")"
   ]
  },
  {
   "cell_type": "code",
   "execution_count": null,
   "metadata": {},
   "outputs": [],
   "source": [
    "a = data_temp_ari[data_temp_ari['Fecha']>='2015-01-01']\n",
    "b= a[a['Fecha']<='2016-01-30']\n",
    "b[b['year_week']=='2015-W01']"
   ]
  },
  {
   "cell_type": "code",
   "execution_count": null,
   "metadata": {},
   "outputs": [],
   "source": [
    "data_temp_ari.isna().sum()/data_temp_ari.shape[0]"
   ]
  },
  {
   "cell_type": "code",
   "execution_count": null,
   "metadata": {},
   "outputs": [],
   "source": [
    "\"\"\"data_temp_ari['iso_year'] = pd.to_datetime(data_temp_ari['Fecha']).dt.isocalendar().year\n",
    "data_temp_ari['iso_week'] = pd.to_datetime(data_temp_ari['Fecha']).dt.isocalendar().week\n",
    "data_temp_ari[data_temp_ari['iso_week']==53]\"\"\""
   ]
  },
  {
   "cell_type": "code",
   "execution_count": 35,
   "metadata": {},
   "outputs": [],
   "source": [
    "# mean by week for humidity\n",
    "data_ari_hum_by_week = data_ari_hum_by_day[['country', 'Fecha', 'relative_humidity_2m','year_week']].groupby(['country', 'year_week'],as_index=False).agg({'relative_humidity_2m':'mean'})\n",
    "data_ili_hum_by_week = data_ili_hum_by_day[['country', 'Fecha', 'relative_humidity_2m','year_week']].groupby(['country', 'year_week'],as_index=False).agg({'relative_humidity_2m':'mean'})\n"
   ]
  },
  {
   "cell_type": "code",
   "execution_count": 36,
   "metadata": {},
   "outputs": [],
   "source": [
    "#mean by week for temp\n",
    "\n",
    "\n",
    "data_ari_temp_by_week = data_temp_ari[['temperature_2m_max', 'temperature_2m_min', 'country', 'Fecha','year_week']].groupby(['country', 'year_week'],as_index=False).agg({'temperature_2m_max': 'mean', 'temperature_2m_min': 'mean'})\n",
    "\n",
    "data_ili_temp_by_week = data_temp_ili[['temperature_2m_max', 'temperature_2m_min', 'country', 'Fecha','year_week']].groupby(['country', 'year_week'],as_index=False).agg({'temperature_2m_max': 'mean', 'temperature_2m_min': 'mean'})\n"
   ]
  },
  {
   "cell_type": "code",
   "execution_count": null,
   "metadata": {},
   "outputs": [],
   "source": [
    "ari_incidence.columns"
   ]
  },
  {
   "cell_type": "code",
   "execution_count": null,
   "metadata": {},
   "outputs": [],
   "source": [
    "data_ari_temp_by_week.head()"
   ]
  },
  {
   "cell_type": "code",
   "execution_count": null,
   "metadata": {},
   "outputs": [],
   "source": [
    "data_ari_hum_by_week.columns"
   ]
  },
  {
   "cell_type": "code",
   "execution_count": null,
   "metadata": {},
   "outputs": [],
   "source": [
    "print(data_ari_hum_by_week.shape)\n",
    "print(ari_incidence.shape)"
   ]
  },
  {
   "cell_type": "code",
   "execution_count": 41,
   "metadata": {},
   "outputs": [],
   "source": [
    "ari_incidence = ari_incidence[ari_incidence['location'].isin(country_names_ari)]\n",
    "ili_incidence = ili_incidence[ili_incidence['location'].isin(country_names_ili)]"
   ]
  },
  {
   "cell_type": "code",
   "execution_count": null,
   "metadata": {},
   "outputs": [],
   "source": [
    "ari_hum = pd.merge(ari_incidence,data_ari_hum_by_week,left_on=['location','year_week'],\n",
    "                   right_on = ['country','year_week'],how = 'left')\n",
    "ari_hum = ari_hum.drop(columns = ['country'])\n",
    "\n",
    "ari = pd.merge(ari_hum,data_ari_temp_by_week,left_on=['location','year_week'],\n",
    "               right_on = ['country','year_week'],how='left')\n",
    "ari = ari.drop(columns=['country'])\n",
    "ari['truth_date'] = pd.to_datetime(ari['truth_date'])\n",
    "ari.head()"
   ]
  },
  {
   "cell_type": "code",
   "execution_count": null,
   "metadata": {},
   "outputs": [],
   "source": [
    "ili_hum = pd.merge(ili_incidence,data_ili_hum_by_week,left_on=['location','year_week'],\n",
    "                   right_on = ['country','year_week'],how = 'left')\n",
    "ili_hum = ili_hum.drop(columns = ['country'])\n",
    "\n",
    "ili = pd.merge(ili_hum,data_ili_temp_by_week,left_on=['location','year_week'],\n",
    "               right_on = ['country','year_week'],how='left')\n",
    "ili = ili.drop(columns=['country'])\n",
    "ili['truth_date'] = pd.to_datetime(ili['truth_date'])\n",
    "ili.head()"
   ]
  },
  {
   "cell_type": "code",
   "execution_count": 44,
   "metadata": {},
   "outputs": [],
   "source": [
    "ili.to_csv(\"data_ili.csv\",sep=\",\")\n",
    "ari.to_csv(\"data_ari.csv\",sep=\",\")"
   ]
  },
  {
   "cell_type": "code",
   "execution_count": 45,
   "metadata": {},
   "outputs": [],
   "source": [
    "#pandemic from march 2020 to may 2024\n",
    "ili['covid']=np.where((ili['truth_date']>='2020-03-01') & (ili['truth_date']<='2024-05-31'),1,0)"
   ]
  },
  {
   "cell_type": "code",
   "execution_count": null,
   "metadata": {},
   "outputs": [],
   "source": [
    "ili.columns"
   ]
  },
  {
   "cell_type": "code",
   "execution_count": null,
   "metadata": {},
   "outputs": [],
   "source": [
    "import matplotlib.pyplot as plt\n",
    "\n",
    "# Group the data by country\n",
    "countries = ili['location'].unique()\n",
    "\n",
    "# Plot data for each country\n",
    "plt.figure(figsize=(12, 8))\n",
    "for country in countries:\n",
    "    country_data = ili[ili['location'] == country]\n",
    "    plt.plot(country_data['truth_date'], country_data['value'], label=country)\n",
    "\n",
    "# Customize the plot\n",
    "plt.title('Values Over Time by Country')\n",
    "plt.xlabel('Date')\n",
    "plt.ylabel('Value')\n",
    "plt.legend(title='Country', bbox_to_anchor=(1.05, 1), loc='upper left')\n",
    "plt.grid(True)\n",
    "plt.tight_layout()\n",
    "\n",
    "# Show the plot\n",
    "plt.show()\n"
   ]
  },
  {
   "cell_type": "code",
   "execution_count": 57,
   "metadata": {},
   "outputs": [],
   "source": [
    "# Group the data by country\n",
    "countries_ari = ['BE', 'BG', 'CZ', 'EE', 'FR', 'DE', 'HU', 'LT', 'RO',\n",
    "       'SI', 'ES','LV']\n",
    "countries_ari2 = ['LU']"
   ]
  },
  {
   "cell_type": "code",
   "execution_count": null,
   "metadata": {},
   "outputs": [],
   "source": [
    "# Plot data for each country\n",
    "plt.figure(figsize=(12, 8))\n",
    "for country in countries_ari:\n",
    "    country_data = ari[ari['value']<6000]\n",
    "    country_data = country_data[country_data['location'] == country]\n",
    "    plt.plot(country_data['truth_date'], country_data['value'], label=country)\n",
    "\n",
    "# Customize the plot\n",
    "plt.title('Values Over Time by Country')\n",
    "plt.xlabel('Date')\n",
    "plt.ylabel('Value')\n",
    "plt.legend(title='Country', bbox_to_anchor=(1.05, 1), loc='upper left')\n",
    "plt.grid(True)\n",
    "plt.tight_layout()\n",
    "\n",
    "# Show the plot\n",
    "plt.show()"
   ]
  },
  {
   "cell_type": "code",
   "execution_count": null,
   "metadata": {},
   "outputs": [],
   "source": [
    "# Plot data for each country\n",
    "plt.figure(figsize=(12, 8))\n",
    "for country in countries_ari2:\n",
    "    country_data = ari[ari['location'] == country]\n",
    "    plt.plot(country_data['truth_date'], country_data['value'], label=country)\n",
    "\n",
    "# Customize the plot\n",
    "plt.title('Values Over Time by Country')\n",
    "plt.xlabel('Date')\n",
    "plt.ylabel('Value')\n",
    "plt.legend(title='Country', bbox_to_anchor=(1.05, 1), loc='upper left')\n",
    "plt.grid(True)\n",
    "plt.tight_layout()\n",
    "\n",
    "# Show the plot\n",
    "plt.show()"
   ]
  },
  {
   "cell_type": "code",
   "execution_count": null,
   "metadata": {},
   "outputs": [],
   "source": [
    "ari[ari['value']>50000]"
   ]
  },
  {
   "cell_type": "code",
   "execution_count": 64,
   "metadata": {},
   "outputs": [],
   "source": [
    "country_names_ili2 = [\n",
    "    \"AT\",\"BE\",\"CZ\",\"DK\",\n",
    "    \"EE\",\"FR\",\"GR\",\"HR\",\n",
    "    \"HU\",\"IE\",\"LT\",\"LV\",\n",
    "    \"NL\",\"NO\",\"PL\",\"RO\",\n",
    "    \"SI\"\n",
    "]\n",
    "country_ili_2 = ['LU','MT']"
   ]
  },
  {
   "cell_type": "code",
   "execution_count": null,
   "metadata": {},
   "outputs": [],
   "source": [
    "# Plot data for each country\n",
    "plt.figure(figsize=(12, 8))\n",
    "for country in country_names_ili2:\n",
    "    country_data = ili[ili['value']<50000]\n",
    "    country_data = country_data[country_data['location'] == country]\n",
    "    plt.plot(country_data['truth_date'], country_data['value'], label=country)\n",
    "\n",
    "# Customize the plot\n",
    "plt.title('Values Over Time by Country')\n",
    "plt.xlabel('Date')\n",
    "plt.ylabel('Value')\n",
    "plt.legend(title='Country', bbox_to_anchor=(1.05, 1), loc='upper left')\n",
    "plt.grid(True)\n",
    "plt.tight_layout()\n",
    "\n",
    "# Show the plot\n",
    "plt.show()"
   ]
  },
  {
   "cell_type": "code",
   "execution_count": null,
   "metadata": {},
   "outputs": [],
   "source": [
    "# Plot data for each country\n",
    "plt.figure(figsize=(12, 8))\n",
    "for country in country_ili_2:\n",
    "    country_data = ili[ili['location'] == country]\n",
    "    plt.plot(country_data['truth_date'], country_data['value'], label=country)\n",
    "\n",
    "# Customize the plot\n",
    "plt.title('Values Over Time by Country')\n",
    "plt.xlabel('Date')\n",
    "plt.ylabel('Value')\n",
    "plt.legend(title='Country', bbox_to_anchor=(1.05, 1), loc='upper left')\n",
    "plt.grid(True)\n",
    "plt.tight_layout()\n",
    "\n",
    "# Show the plot\n",
    "plt.show()"
   ]
  },
  {
   "cell_type": "markdown",
   "metadata": {},
   "source": [
    "Separete the data for each country "
   ]
  },
  {
   "cell_type": "code",
   "execution_count": null,
   "metadata": {},
   "outputs": [],
   "source": [
    "from statsmodels.tsa.arima.model import ARIMA\n",
    "from statsmodels.tsa.stattools import adfuller\n",
    "def adcor(data,country):\n",
    "    dat = data[data['location']==country]\n",
    "    adf_test = adfuller(dat['value'])\n",
    "    # Output the results\n",
    "    #print('ADF Statistic: %f' % adf_test[0])\n",
    "    print(f'p-value: %f for {country}' % adf_test[1])\n",
    "for i in country_names_ili:\n",
    "    adcor(ili,i)\n"
   ]
  },
  {
   "cell_type": "markdown",
   "metadata": {},
   "source": [
    "p-value <<<0.05 this indicates the existence of stationarity. This means that we can use the arima model"
   ]
  },
  {
   "cell_type": "code",
   "execution_count": null,
   "metadata": {},
   "outputs": [],
   "source": [
    "for i in country_names_ari:\n",
    "    adcor(ari,i)"
   ]
  },
  {
   "cell_type": "code",
   "execution_count": null,
   "metadata": {},
   "outputs": [],
   "source": [
    "for i in country_names_ari:\n",
    "    exec(f\"data_ari_{i} = ari[ari['location'] == '{i}']\")\n",
    "    print(f\"data_ari_{i}\")\n",
    "for i in country_names_ili:\n",
    "    exec(f\"data_ili_{i} = ili[ili['location'] == '{i}']\")\n",
    "    print(f\"data_ili_{i}\")\n"
   ]
  },
  {
   "cell_type": "markdown",
   "metadata": {},
   "source": [
    "p-value <<<0.05 this indicates the existence of stationarity. This means that we can use the arima model\n"
   ]
  },
  {
   "cell_type": "code",
   "execution_count": null,
   "metadata": {},
   "outputs": [],
   "source": [
    "for country in country_names_ari:\n",
    "    country_data = ari[ari['location'] == country]['value']\n",
    "    \n",
    "    # Create a figure for the plots\n",
    "    plt.figure(figsize=(12, 6))\n",
    "    plt.suptitle(f\"ACF and PACF for {country}\", fontsize=16)\n",
    "    \n",
    "    # Plot ACF\n",
    "    plt.subplot(1, 2, 1)\n",
    "    plot_acf(country_data, lags=40, ax=plt.gca())\n",
    "    plt.title(\"ACF\")\n",
    "    \n",
    "    # Plot PACF\n",
    "    plt.subplot(1, 2, 2)\n",
    "    plot_pacf(country_data, lags=40, ax=plt.gca(), method='ywm')\n",
    "    plt.title(\"PACF\")\n",
    "    \n",
    "    # Show the plots for the current country\n",
    "    plt.tight_layout(rect=[0, 0.03, 1, 0.95])\n",
    "    plt.show()"
   ]
  },
  {
   "cell_type": "code",
   "execution_count": null,
   "metadata": {},
   "outputs": [],
   "source": [
    "for country in country_names_ili:\n",
    "    country_data = ili[ili['location'] == country]['value']\n",
    "    \n",
    "    # Create a figure for the plots\n",
    "    plt.figure(figsize=(12, 6))\n",
    "    plt.suptitle(f\"ACF and PACF for {country}\", fontsize=16)\n",
    "    \n",
    "    # Plot ACF\n",
    "    plt.subplot(1, 2, 1)\n",
    "    plot_acf(country_data, lags=40, ax=plt.gca())\n",
    "    plt.title(\"ACF\")\n",
    "    \n",
    "    # Plot PACF\n",
    "    plt.subplot(1, 2, 2)\n",
    "    plot_pacf(country_data, lags=40, ax=plt.gca(), method='ywm')\n",
    "    plt.title(\"PACF\")\n",
    "    \n",
    "    # Show the plots for the current country\n",
    "    plt.tight_layout(rect=[0, 0.03, 1, 0.95])\n",
    "    plt.show()"
   ]
  },
  {
   "cell_type": "code",
   "execution_count": null,
   "metadata": {},
   "outputs": [],
   "source": [
    "plot_acf(ari['value'], lags=40)\n",
    "plot_pacf(ari['value'], lags=40)\n",
    "plt.show()"
   ]
  },
  {
   "cell_type": "code",
   "execution_count": null,
   "metadata": {},
   "outputs": [],
   "source": [
    "plot_acf(ili['value'], lags=40)\n",
    "plot_pacf(ili['value'], lags=40)\n",
    "plt.show()"
   ]
  }
 ],
 "metadata": {
  "kernelspec": {
   "display_name": "tfm",
   "language": "python",
   "name": "python3"
  },
  "language_info": {
   "codemirror_mode": {
    "name": "ipython",
    "version": 3
   },
   "file_extension": ".py",
   "mimetype": "text/x-python",
   "name": "python",
   "nbconvert_exporter": "python",
   "pygments_lexer": "ipython3",
   "version": "3.11.11"
  }
 },
 "nbformat": 4,
 "nbformat_minor": 2
}
